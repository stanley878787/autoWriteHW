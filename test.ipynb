{
 "cells": [
  {
   "cell_type": "code",
   "execution_count": 1,
   "metadata": {},
   "outputs": [],
   "source": [
    "from selenium import webdriver\n",
    "from selenium.webdriver.common.keys import Keys\n",
    "from selenium.webdriver.common.by import By\n",
    "import requests\n",
    "from bs4 import BeautifulSoup\n",
    "import pyautogui\n",
    "import void\n",
    "from difflib import SequenceMatcher"
   ]
  },
  {
   "cell_type": "code",
   "execution_count": 2,
   "metadata": {},
   "outputs": [],
   "source": [
    "def similarity(a, b):\n",
    "    return SequenceMatcher(None, a, b).ratio()"
   ]
  },
  {
   "cell_type": "code",
   "execution_count": 3,
   "metadata": {},
   "outputs": [],
   "source": [
    "driver = webdriver.Chrome()"
   ]
  },
  {
   "cell_type": "code",
   "execution_count": 4,
   "metadata": {},
   "outputs": [],
   "source": [
    "driver.get(\"http://onlinetest1-3.slhs.tp.edu.tw/test2/main/simulate_exec.asp?gexamid=t14900&pcount=80&pastid=all\")"
   ]
  },
  {
   "cell_type": "code",
   "execution_count": 5,
   "metadata": {},
   "outputs": [],
   "source": [
    "url1 = 'http://google.com'\n",
    "strScript = 'window.open(\"'+url1+'\");'"
   ]
  },
  {
   "cell_type": "code",
   "execution_count": 6,
   "metadata": {},
   "outputs": [],
   "source": [
    "driver.execute_script(strScript)"
   ]
  },
  {
   "cell_type": "code",
   "execution_count": 7,
   "metadata": {},
   "outputs": [],
   "source": [
    "# pyautogui.hotkey('ctrl', 't', interval=0.1)"
   ]
  },
  {
   "cell_type": "code",
   "execution_count": 8,
   "metadata": {},
   "outputs": [],
   "source": [
    "driver.switch_to.window(driver.window_handles[0])"
   ]
  },
  {
   "cell_type": "code",
   "execution_count": 9,
   "metadata": {},
   "outputs": [],
   "source": [
    "driver.find_elements_by_name(\"examinterface\")[1].click()"
   ]
  },
  {
   "cell_type": "code",
   "execution_count": 10,
   "metadata": {},
   "outputs": [],
   "source": [
    "driver.find_element_by_id(\"n1\").click()"
   ]
  },
  {
   "cell_type": "code",
   "execution_count": 11,
   "metadata": {},
   "outputs": [],
   "source": [
    "driver.find_element_by_partial_link_text('開始測驗').click()"
   ]
  },
  {
   "cell_type": "code",
   "execution_count": 12,
   "metadata": {},
   "outputs": [],
   "source": [
    "# pyautogui.hotkey('ctrl', 't', interval=0.1)\n",
    "# driver.switch_to.window(driver.window_handles[1])\n",
    "# driver.get(\"www.google.com\")"
   ]
  },
  {
   "cell_type": "code",
   "execution_count": 13,
   "metadata": {},
   "outputs": [],
   "source": [
    "def searchAnswer(QuestionGroup,topic):\n",
    "    if QuestionGroup   == \"01\"    :orrectTopic = int(topic) + 782797\n",
    "    elif QuestionGroup == \"02\"    :orrectTopic = int(topic) + 782942\n",
    "    elif QuestionGroup == \"03\"    :orrectTopic = int(topic) + 783183\n",
    "    elif QuestionGroup == \"04\"    :orrectTopic = int(topic) + 783493\n",
    "    elif QuestionGroup == \"05\"    :orrectTopic = int(topic) + 783390\n",
    "    elif QuestionGroup == \"90006\" :orrectTopic = int(topic) + 1755528\n",
    "    elif QuestionGroup == \"90007\" :orrectTopic = int(topic) + 2053551\n",
    "    elif QuestionGroup == \"90008\" :orrectTopic = int(topic) + 1755728\n",
    "    elif QuestionGroup == \"90009\" :orrectTopic = int(topic) + 2025890\n",
    "        \n",
    "    url = \"https://yamol.tw/item-\" + str(orrectTopic) + \".htm\"\n",
    "    \n",
    "    driver.switch_to.window(driver.window_handles[1])\n",
    "    driver.get(url)\n",
    "    ans = driver.find_element_by_class_name(\"col-sm-6.col-md-4.col-lg-4\")\n",
    "    answer = ans.text.split(\"\\n\")[0].split(\"：\")[1]\n",
    "    selects = driver.find_element_by_class_name(\"itemcontent\")\n",
    "    if answer == \"A\":\n",
    "        number = 5\n",
    "    elif answer == \"B\":\n",
    "        number = 4\n",
    "    elif answer == \"C\":\n",
    "        number = 3\n",
    "    elif answer == \"D\":\n",
    "        number = 2\n",
    "    \n",
    "    lastAnswer = selects.text.split(\"#\")[0].split(\"\\n(\")[1-number].split(\")\")[1].split('。')[0].replace(\"\\n\", \"\")\n",
    "    \n",
    "    driver.switch_to.window(driver.window_handles[0])\n",
    "    \n",
    "    return lastAnswer\n",
    "    "
   ]
  },
  {
   "cell_type": "code",
   "execution_count": 14,
   "metadata": {},
   "outputs": [],
   "source": [
    "# driver.switch_to.window(driver.window_handles[0])\n",
    "driver.switch_to.frame(\"main\") "
   ]
  },
  {
   "cell_type": "code",
   "execution_count": 15,
   "metadata": {},
   "outputs": [],
   "source": [
    "questions = driver.find_elements(By.XPATH, '/html/body/center/form/div/table/tbody/tr')"
   ]
  },
  {
   "cell_type": "code",
   "execution_count": 16,
   "metadata": {},
   "outputs": [
    {
     "name": "stdout",
     "output_type": "stream",
     "text": [
      "1\n",
      "資訊\n",
      "2\n",
      "通訊協定\n",
      "3\n",
      "資產 增加、資產減少\n",
      "4\n",
      "記實轉虛之預付利息\n",
      "5\n",
      "少計$700\n",
      "6\n",
      "$680,000\n",
      "7\n",
      "應收帳款\n",
      "8\n",
      "此廣告支出是為日後彩 券業務之推動，使無形資產增加$1,000,000\n",
      "9\n",
      "借餘$15,000\n",
      "10\n",
      "借記呆帳$6,000，貸記備扺呆帳－應 收帳款$6,000\n",
      "11\n",
      "資產\n",
      "12\n",
      "套 寫傳票\n",
      "13\n",
      "借：廣告費\n",
      "14\n",
      "明細帳必須逐筆 過帳\n",
      "15\n",
      "二項\n",
      "16\n",
      "$800\n",
      "17\n",
      "餘額式試算表\n",
      "18\n",
      "貸方$800\n",
      "19\n",
      "虛帳戶結帳後餘額仍轉入下期\n",
      "20\n",
      "借：銷貨退回$1,000，貸：現金$1,000\n",
      "21\n",
      "營業費用\n",
      "22\n",
      "收取現金\n",
      "23\n",
      "使各期損益公允表達\n",
      "24\n",
      "$200\n",
      "25\n",
      "應付帳款減少$46,600\n",
      "26\n",
      "不動產、 廠房及設備\n",
      "27\n",
      "現金$39,200、銷貨折讓$800\n",
      "28\n",
      "100/06/30\n",
      "29\n",
      "逆查法\n",
      "30\n",
      "淨利虛增\n",
      "31\n",
      "明瞭各科目的增減變化\n",
      "32\n",
      "費損增加，權益增加\n",
      "33\n",
      "以資本主名義購車供企業使用\n",
      "34\n",
      "借方無誤，貸方多$1,000\n",
      "35\n",
      "持續火焰區域\n",
      "36\n",
      "中央主管機關定之\n",
      "37\n",
      "借方重過\n",
      "38\n",
      "螢幕顯示\n",
      "39\n",
      "交易的記錄\n",
      "40\n",
      "會計總 帳系統\n",
      "41\n",
      "$1,400\n",
      "42\n",
      "7月31日\n",
      "43\n",
      "例行性交易\n",
      "44\n",
      "五年\n",
      "45\n",
      "其他代客記帳業者\n",
      "46\n",
      "在鄉（鎮）為鄉（鎮）公所\n",
      "47\n",
      "傳輸過程易遭受外來的侵入與截取\n",
      "48\n",
      "$6,200\n",
      "49\n",
      "核對資料\n",
      "50\n",
      "借方金額過入貸方\n",
      "51\n",
      "資產負債欄貸方\n",
      "52\n",
      "營業人自用或贈送的貨物、勞務，可免徵營業稅\n",
      "53\n",
      "借：預收租金$1,500\n",
      "54\n",
      "$200,000\n",
      "55\n",
      "現金$290,000\n",
      "56\n",
      "期初＋貸方－借方\n",
      "57\n",
      "日記簿\n",
      "58\n",
      "開業分錄\n",
      "59\n",
      "使用個人資 訊，例如身份證號碼或電話比較不會忘記\n",
      "60\n",
      "費損類\n",
      "61\n",
      "銀行存款$180,000、應付票據$180,000\n",
      "62\n",
      "賒購文具用品\n",
      "63\n",
      "$900\n",
      "64\n",
      "檢 視新舊系統所列印出的會計帳務資料\n",
      "65\n",
      "腦心血管疾病\n",
      "66\n",
      "工作相關過勞程度輕微\n",
      "67\n",
      "痛風\n",
      "68\n",
      "增加\n",
      "69\n",
      "專利有規定保護年限，當某商品、技術的專利保護年限屆滿，任何人皆可運用該項專利\n",
      "70\n",
      "雇用人\n",
      "71\n",
      "若已取得當事人書面同意，當事人即不得拒絕利用其個人資料行銷\n",
      "72\n",
      "應該將承辦業務整理歸檔清楚，並且留下聯絡的方式，未來有問題可以詢問她\n",
      "73\n",
      "銅\n",
      "74\n",
      "無論雄蚊或雌蚊皆會吸食哺乳類動物血液\n",
      "75\n",
      "ABC\n",
      "76\n",
      "砷\n",
      "77\n",
      "22：30~07：30\n",
      "78\n",
      "省水馬桶因為水量較小，會有沖不乾淨的問題，所以應該多沖幾次\n",
      "79\n",
      "因為馬桶 還能正常使用，所以不用著急，等到不能用時再報修即可\n",
      "80\n",
      "26\n"
     ]
    }
   ],
   "source": [
    "for i in range(2, len(questions)):\n",
    "#     print(questions[i].text.split(' 【')[1].split('】')[0].split(\"-\"))\n",
    "\n",
    "    QuestionGroup = questions[i].text.split(' 【')[1].split('】')[0].split(\"-\")[0]\n",
    "    topic = questions[i].text.split(' 【')[1].split('】')[0].split(\"-\")[1]\n",
    "#     print(topic)  \n",
    "    \n",
    "    one = questions[i].text.split(') ')[1-5].split('   (')[0].split('  \\n')[0].split(' ')[0]\n",
    "    two = questions[i].text.split(') ')[1-4].split('   (')[0].split('  \\n')[0].split(' ')[0]\n",
    "    three = questions[i].text.split(') ')[1-3].split('   (')[0].split('  \\n')[0].split(' ')[0]\n",
    "    four = questions[i].text.split(') ')[1-2].split('   (')[0].split('  \\n')[0].split(' ')[0]\n",
    "\n",
    "# one   = 答案1234\n",
    "# two   = 答案1234\n",
    "# three = 答案1234 \n",
    "# four  = 答案1234  \n",
    "\n",
    "    \n",
    "    Ansertest = searchAnswer(QuestionGroup,topic)\n",
    "    \n",
    "    driver.switch_to.frame(\"main\") \n",
    "    questions = driver.find_elements(By.XPATH, '/html/body/center/form/div/table/tbody/tr')\n",
    "    \n",
    "    num = i-2    \n",
    "    \n",
    "    \n",
    "    rate = 0.4\n",
    "    \n",
    "    if similarity(one, Ansertest) >= rate:\n",
    "        driver.find_elements_by_name(\"ans\"+str(num))[0].click()\n",
    "    elif similarity(four, Ansertest) >= rate:\n",
    "        driver.find_elements_by_name(\"ans\"+str(num))[1].click()\n",
    "    elif similarity(three, Ansertest) >= rate:\n",
    "        driver.find_elements_by_name(\"ans\"+str(num))[2].click()    \n",
    "    elif similarity(two, Ansertest) >= rate:\n",
    "        driver.find_elements_by_name(\"ans\"+str(num))[3].click()    \n",
    "    \n",
    "    \n",
    "    if one == Ansertest:\n",
    "        driver.find_elements_by_name(\"ans\"+str(num))[0].click()\n",
    "    elif two == Ansertest:\n",
    "        driver.find_elements_by_name(\"ans\"+str(num))[1].click()\n",
    "    elif three == Ansertest:\n",
    "        driver.find_elements_by_name(\"ans\"+str(num))[2].click()\n",
    "    elif four == Ansertest:\n",
    "        driver.find_elements_by_name(\"ans\"+str(num))[3].click()\n",
    "    \n",
    "    \n",
    "    \n",
    "    print(i-1)\n",
    "    print(Ansertest)\n"
   ]
  },
  {
   "cell_type": "code",
   "execution_count": 17,
   "metadata": {},
   "outputs": [],
   "source": [
    "# driver.switch_to.frame(\"main\")\n",
    "# questions = driver.find_elements(By.XPATH, '/html/body/center/form/div/table/tbody/tr')"
   ]
  },
  {
   "cell_type": "code",
   "execution_count": 18,
   "metadata": {},
   "outputs": [],
   "source": [
    "# for i in range(2, len(questions)):\n",
    "    \n",
    "#     zero = questions[i].text.split(') ')[1-0].split('   (')[0].split('  \\n')[0]\n",
    "#     four = questions[i].text.split(') ')[1-4].split('   (')[0].split('  \\n')[0]\n",
    "#     three = questions[i].text.split(') ')[1-3].split('   (')[0].split('  \\n')[0]\n",
    "#     two = questions[i].text.split(') ')[1-2].split('   (')[0].split('  \\n')[0]\n",
    "    \n",
    "#     if zero == Ansertest:\n",
    "#         driver.find_elements_by_name(\"ans0\")[0].click()\n",
    "#     elif four == Ansertest:\n",
    "#         driver.find_elements_by_name(\"ans0\")[1].click()\n",
    "#     elif three == Ansertest:\n",
    "#         driver.find_elements_by_name(\"ans0\")[2].click()\n",
    "#     elif two == Ansertest:\n",
    "#         driver.find_elements_by_name(\"ans0\")[3].click()\n",
    "        \n",
    "    \n",
    "    \n",
    "    \n",
    "    \n",
    "    \n",
    "# print(asd)\n",
    "    \n",
    "    \n",
    "    \n",
    "    \n",
    "# (5)=1選項\n",
    "# (4)=2\n",
    "# (3)=3\n",
    "# (2)=4\n",
    "\n",
    "    "
   ]
  },
  {
   "cell_type": "code",
   "execution_count": 19,
   "metadata": {},
   "outputs": [
    {
     "name": "stdout",
     "output_type": "stream",
     "text": [
      "26\n",
      "22\n",
      "24\n",
      "25  \n"
     ]
    }
   ],
   "source": [
    "for i in range(2, len(questions)):\n",
    "    \n",
    "    zero = questions[i].text.split(') ')[1-5].split('   (')[0].split('  \\n')[0]\n",
    "    four = questions[i].text.split(') ')[1-4].split('   (')[0].split('  \\n')[0]\n",
    "    three = questions[i].text.split(') ')[1-3].split('   (')[0].split('  \\n')[0]\n",
    "    two = questions[i].text.split(') ')[1-2].split('   (')[0].split('  \\n')[0]\n",
    "    \n",
    "    \n",
    "print(zero)\n",
    "print(four)\n",
    "print(three)\n",
    "print(two)\n",
    "    \n",
    "\n",
    "    \n",
    "#     if zero == Ansertest:\n",
    "#         driver.find_elements_by_name(\"ans0\")[0].click()\n",
    "#     elif four == Ansertest:\n",
    "#         driver.find_elements_by_name(\"ans0\")[1].click()\n",
    "#     elif three == Ansertest:\n",
    "#         driver.find_elements_by_name(\"ans0\")[2].click()\n",
    "#     elif two == Ansertest:\n",
    "#         driver.find_elements_by_name(\"ans0\")[3].click()"
   ]
  },
  {
   "cell_type": "code",
   "execution_count": null,
   "metadata": {},
   "outputs": [],
   "source": []
  },
  {
   "cell_type": "code",
   "execution_count": null,
   "metadata": {},
   "outputs": [],
   "source": []
  },
  {
   "cell_type": "code",
   "execution_count": 20,
   "metadata": {},
   "outputs": [],
   "source": [
    "# len(\"questions\")"
   ]
  },
  {
   "cell_type": "code",
   "execution_count": 21,
   "metadata": {},
   "outputs": [],
   "source": [
    "# print(Ansertest)"
   ]
  },
  {
   "cell_type": "code",
   "execution_count": null,
   "metadata": {},
   "outputs": [],
   "source": []
  },
  {
   "cell_type": "code",
   "execution_count": null,
   "metadata": {},
   "outputs": [],
   "source": []
  },
  {
   "cell_type": "code",
   "execution_count": 22,
   "metadata": {},
   "outputs": [],
   "source": [
    "# driver.find_elements_by_name(\"ans0\")[0].click()"
   ]
  },
  {
   "cell_type": "code",
   "execution_count": null,
   "metadata": {},
   "outputs": [],
   "source": []
  },
  {
   "cell_type": "code",
   "execution_count": null,
   "metadata": {},
   "outputs": [],
   "source": []
  },
  {
   "cell_type": "code",
   "execution_count": null,
   "metadata": {},
   "outputs": [],
   "source": []
  },
  {
   "cell_type": "code",
   "execution_count": null,
   "metadata": {},
   "outputs": [],
   "source": []
  },
  {
   "cell_type": "code",
   "execution_count": null,
   "metadata": {},
   "outputs": [],
   "source": []
  },
  {
   "cell_type": "code",
   "execution_count": null,
   "metadata": {},
   "outputs": [],
   "source": []
  },
  {
   "cell_type": "code",
   "execution_count": 23,
   "metadata": {},
   "outputs": [],
   "source": [
    "# searchAnswer(\"05\",\"23\")"
   ]
  },
  {
   "cell_type": "code",
   "execution_count": 24,
   "metadata": {},
   "outputs": [],
   "source": [
    "# url = \"https://yamol.tw/item-\" + str(783394) + \".htm\"\n",
    "# response = requests.get(url)\n",
    "# soup     = BeautifulSoup(response.text, 'html.parser')\n",
    "\n",
    "# selects = soup.select(\"div.col-sm-6.col-md-4.col-lg-4\")\n",
    "# Answer = selects[0].a.text\n",
    "\n",
    "# titles = soup.select(\"span.itemcontent\")[0].text.split('(')\n",
    "\n",
    "# for title in titles:\n",
    "#     if title.split(')')[0] == Answer:\n",
    "#         AnswerText = title.split(')')[1].split(' ')[0].split('。')[0].replace(\"\\n\", \"\")\n",
    "    "
   ]
  },
  {
   "cell_type": "code",
   "execution_count": 25,
   "metadata": {},
   "outputs": [],
   "source": [
    "# selects"
   ]
  },
  {
   "cell_type": "code",
   "execution_count": 26,
   "metadata": {},
   "outputs": [],
   "source": [
    "# Answer"
   ]
  },
  {
   "cell_type": "code",
   "execution_count": 27,
   "metadata": {},
   "outputs": [],
   "source": [
    "# titles"
   ]
  },
  {
   "cell_type": "code",
   "execution_count": 28,
   "metadata": {},
   "outputs": [],
   "source": [
    "# title.split(')')[0]"
   ]
  },
  {
   "cell_type": "code",
   "execution_count": null,
   "metadata": {},
   "outputs": [],
   "source": []
  },
  {
   "cell_type": "code",
   "execution_count": 29,
   "metadata": {},
   "outputs": [],
   "source": [
    "# AnswerText"
   ]
  },
  {
   "cell_type": "code",
   "execution_count": 30,
   "metadata": {},
   "outputs": [],
   "source": [
    "def similarity(a, b):\n",
    "    return SequenceMatcher(None, a, b).ratio()"
   ]
  },
  {
   "cell_type": "code",
   "execution_count": 31,
   "metadata": {},
   "outputs": [
    {
     "data": {
      "text/plain": [
       "0.7272727272727273"
      ]
     },
     "execution_count": 31,
     "metadata": {},
     "output_type": "execute_result"
    }
   ],
   "source": [
    "similarity('借：備抵呆帳－應收帳款', '借：備抵損失—應收帳款')"
   ]
  },
  {
   "cell_type": "code",
   "execution_count": null,
   "metadata": {},
   "outputs": [],
   "source": []
  },
  {
   "cell_type": "code",
   "execution_count": null,
   "metadata": {},
   "outputs": [],
   "source": []
  },
  {
   "cell_type": "code",
   "execution_count": null,
   "metadata": {},
   "outputs": [],
   "source": []
  },
  {
   "cell_type": "code",
   "execution_count": null,
   "metadata": {},
   "outputs": [],
   "source": []
  },
  {
   "cell_type": "code",
   "execution_count": null,
   "metadata": {},
   "outputs": [],
   "source": []
  },
  {
   "cell_type": "code",
   "execution_count": null,
   "metadata": {},
   "outputs": [],
   "source": []
  },
  {
   "cell_type": "code",
   "execution_count": null,
   "metadata": {},
   "outputs": [],
   "source": []
  },
  {
   "cell_type": "code",
   "execution_count": null,
   "metadata": {},
   "outputs": [],
   "source": []
  },
  {
   "cell_type": "code",
   "execution_count": null,
   "metadata": {},
   "outputs": [],
   "source": []
  },
  {
   "cell_type": "code",
   "execution_count": null,
   "metadata": {},
   "outputs": [],
   "source": []
  }
 ],
 "metadata": {
  "kernelspec": {
   "display_name": "Python 3",
   "language": "python",
   "name": "python3"
  },
  "language_info": {
   "codemirror_mode": {
    "name": "ipython",
    "version": 3
   },
   "file_extension": ".py",
   "mimetype": "text/x-python",
   "name": "python",
   "nbconvert_exporter": "python",
   "pygments_lexer": "ipython3",
   "version": "3.7.9"
  }
 },
 "nbformat": 4,
 "nbformat_minor": 5
}
