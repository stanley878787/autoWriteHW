{
 "cells": [
  {
   "cell_type": "code",
   "execution_count": 1,
   "id": "3061e50b",
   "metadata": {},
   "outputs": [],
   "source": [
    "from selenium import webdriver\n",
    "from selenium.webdriver.common.keys import Keys\n",
    "from selenium.webdriver.common.by import By\n",
    "import requests\n",
    "from bs4 import BeautifulSoup\n",
    "import pyautogui\n",
    "import void\n",
    "from difflib import SequenceMatcher"
   ]
  },
  {
   "cell_type": "code",
   "execution_count": 2,
   "id": "fe7a5e4d",
   "metadata": {},
   "outputs": [],
   "source": [
    "def similarity(a, b):\n",
    "    return SequenceMatcher(None, a, b).ratio()"
   ]
  },
  {
   "cell_type": "code",
   "execution_count": 3,
   "id": "77eae259",
   "metadata": {},
   "outputs": [],
   "source": [
    "driver = webdriver.Chrome()"
   ]
  },
  {
   "cell_type": "code",
   "execution_count": 4,
   "id": "13977b28",
   "metadata": {},
   "outputs": [],
   "source": [
    "driver.get(\"http://onlinetest1-3.slhs.tp.edu.tw/test2/main/simulate_exec.asp?gexamid=t14900&pcount=80&pastid=all\")"
   ]
  },
  {
   "cell_type": "code",
   "execution_count": 5,
   "id": "ba477528",
   "metadata": {},
   "outputs": [],
   "source": [
    "url1 = 'http://google.com'\n",
    "strScript = 'window.open(\"'+url1+'\");'"
   ]
  },
  {
   "cell_type": "code",
   "execution_count": 6,
   "id": "6a344b13",
   "metadata": {},
   "outputs": [],
   "source": [
    "driver.execute_script(strScript)"
   ]
  },
  {
   "cell_type": "code",
   "execution_count": 7,
   "id": "f5273d27",
   "metadata": {},
   "outputs": [],
   "source": [
    "# pyautogui.hotkey('ctrl', 't', interval=0.1)"
   ]
  },
  {
   "cell_type": "code",
   "execution_count": 8,
   "id": "eb0dbb09",
   "metadata": {},
   "outputs": [],
   "source": [
    "driver.switch_to.window(driver.window_handles[0])"
   ]
  },
  {
   "cell_type": "code",
   "execution_count": 9,
   "id": "1685c8a4",
   "metadata": {},
   "outputs": [],
   "source": [
    "driver.find_elements_by_name(\"examinterface\")[1].click()"
   ]
  },
  {
   "cell_type": "code",
   "execution_count": 10,
   "id": "445062ce",
   "metadata": {},
   "outputs": [],
   "source": [
    "driver.find_element_by_id(\"n1\").click()"
   ]
  },
  {
   "cell_type": "code",
   "execution_count": 11,
   "id": "bf97e2f5",
   "metadata": {},
   "outputs": [],
   "source": [
    "driver.find_element_by_partial_link_text('開始測驗').click()"
   ]
  },
  {
   "cell_type": "code",
   "execution_count": 12,
   "id": "ce375a21",
   "metadata": {},
   "outputs": [],
   "source": [
    "# pyautogui.hotkey('ctrl', 't', interval=0.1)\n",
    "# driver.switch_to.window(driver.window_handles[1])\n",
    "# driver.get(\"www.google.com\")"
   ]
  },
  {
   "cell_type": "code",
   "execution_count": 13,
   "id": "70b7e69b",
   "metadata": {},
   "outputs": [],
   "source": [
    "def searchAnswer(QuestionGroup,topic):\n",
    "    if QuestionGroup   == \"01\"    :orrectTopic = int(topic) + 782797\n",
    "    elif QuestionGroup == \"02\"    :orrectTopic = int(topic) + 782942\n",
    "    elif QuestionGroup == \"03\"    :orrectTopic = int(topic) + 783183\n",
    "    elif QuestionGroup == \"04\"    :orrectTopic = int(topic) + 783493\n",
    "    elif QuestionGroup == \"05\"    :orrectTopic = int(topic) + 783390\n",
    "    elif QuestionGroup == \"90006\" :orrectTopic = int(topic) + 1755528\n",
    "    elif QuestionGroup == \"90007\" :orrectTopic = int(topic) + 2053551\n",
    "    elif QuestionGroup == \"90008\" :orrectTopic = int(topic) + 1755728\n",
    "    elif QuestionGroup == \"90009\" :orrectTopic = int(topic) + 2025890\n",
    "        \n",
    "    url = \"https://yamol.tw/item-\" + str(orrectTopic) + \".htm\"\n",
    "    \n",
    "    driver.switch_to.window(driver.window_handles[1])\n",
    "    driver.get(url)\n",
    "    ans = driver.find_element_by_class_name(\"col-sm-6.col-md-4.col-lg-4\")\n",
    "    answer = ans.text.split(\"\\n\")[0].split(\"：\")[1]\n",
    "    selects = driver.find_element_by_class_name(\"itemcontent\")\n",
    "    if answer == \"A\":\n",
    "        number = 5\n",
    "    elif answer == \"B\":\n",
    "        number = 4\n",
    "    elif answer == \"C\":\n",
    "        number = 3\n",
    "    elif answer == \"D\":\n",
    "        number = 2\n",
    "    \n",
    "    lastAnswer = selects.text.split(\"#\")[0].split(\"\\n(\")[1-number].split(\")\")[1].split('。')[0].replace(\" \", \"\")\n",
    "    \n",
    "    driver.switch_to.window(driver.window_handles[0])\n",
    "    \n",
    "    return lastAnswer\n",
    "    "
   ]
  },
  {
   "cell_type": "code",
   "execution_count": 14,
   "id": "22c7ef9f",
   "metadata": {},
   "outputs": [],
   "source": [
    "# driver.switch_to.window(driver.window_handles[0])\n",
    "driver.switch_to.frame(\"main\") "
   ]
  },
  {
   "cell_type": "code",
   "execution_count": 15,
   "id": "029f8ebd",
   "metadata": {},
   "outputs": [],
   "source": [
    "questions = driver.find_elements(By.XPATH, '/html/body/center/form/div/table/tbody/tr')"
   ]
  },
  {
   "cell_type": "code",
   "execution_count": 16,
   "id": "b8c37e2c",
   "metadata": {},
   "outputs": [
    {
     "name": "stdout",
     "output_type": "stream",
     "text": [
      "1\n",
      "應收帳款\n",
      "2\n",
      "開辦費$11,000\n",
      "3\n",
      "CnH2n+2的燃燒上限（質量濃度），隨著n值增加而上昇\n",
      "4\n",
      "試算表均為每月編製一次\n",
      "5\n",
      "借：預付貨款，貸：應付票據\n",
      "6\n",
      "進貨成本的加項\n",
      "7\n",
      "記虛轉實\n",
      "8\n",
      "年利率\n",
      "9\n",
      "折耗\n",
      "10\n",
      "並不違反一般公認會計原則\n",
      "11\n",
      "經主管人員核准後才發現之錯誤，不能由使用者直接更改\n",
      "12\n",
      "交易\n",
      "13\n",
      "系統設計人員\n",
      "14\n",
      "資產負債表與試算表皆為商業會計法規定每屆決算必須編製的報表\n",
      "15\n",
      "現購商品$500，過帳時記入進貨借方$500，現金借方$500\n",
      "16\n",
      "攤提\n",
      "17\n",
      "折舊的調整\n",
      "18\n",
      "類級編號法\n",
      "19\n",
      "每筆交易隨即記錄\n",
      "20\n",
      "增加無形資產\n",
      "21\n",
      "收益及費損\n",
      "22\n",
      "病毒太新而不在防毒軟體的資料庫中\n",
      "23\n",
      "業主提取公司商品自用\n",
      "24\n",
      "預收收益已實現部分\n",
      "25\n",
      "標準式\n",
      "26\n",
      "＠\n",
      "27\n",
      "藍芽耳機\n",
      "28\n",
      "先收到顧客款項，即使尚未提供服務，仍可將收到之款項全數認列為收入\n",
      "29\n",
      "發生帳款當年\n",
      "30\n",
      "明細帳必須逐筆過帳\n",
      "31\n",
      "分錄\n",
      "32\n",
      "木質電扶梯\n",
      "33\n",
      "總額、餘額均須填寫\n",
      "34\n",
      "A→C→D→B\n",
      "35\n",
      "借貸相等\n",
      "36\n",
      "獨資、合夥及公司\n",
      "37\n",
      "實帳戶\n",
      "38\n",
      "應付票據\n",
      "39\n",
      "於公開資訊觀測站上揭露\n",
      "40\n",
      "資產\n",
      "41\n",
      "營業費用\n",
      "42\n",
      "過帳\n",
      "43\n",
      "負債性質\n",
      "44\n",
      "保險費$8,000\n",
      "45\n",
      "相等\n",
      "46\n",
      "借：應付帳款$90,000，貸：進貨$90,000\n",
      "47\n",
      "總額餘額式試算表\n",
      "48\n",
      "將商品退回賣主時，應貸記銷貨退回\n",
      "49\n",
      "借：其他損失$2,000，貸：現金$2,000\n",
      "50\n",
      "異常交易\n",
      "51\n",
      "增加\n",
      "52\n",
      "管理資訊系統\n",
      "53\n",
      "資訊是會計資訊系統的重要輸出\n",
      "54\n",
      "9及111\n",
      "55\n",
      "不須過次頁\n",
      "56\n",
      "帳戶名稱\n",
      "57\n",
      "多媒體設備\n",
      "58\n",
      "借差\n",
      "59\n",
      "會計工作自分錄、過帳、試算、調整、結帳、編表止之循環\n",
      "60\n",
      "本期淨損\n",
      "61\n",
      "借貸方均少計$1,000\n",
      "62\n",
      "瞭解一筆交易之全貌\n",
      "63\n",
      "依會計事項之經過，造具記帳憑證\n",
      "64\n",
      "借記呆帳$20,000，貸記備扺呆帳－應收帳款$20,000\n",
      "65\n",
      "漂白水\n",
      "66\n",
      "熔絲斷路器\n",
      "67\n",
      "屋頂\n",
      "68\n",
      "12\n",
      "69\n",
      "詐欺罪\n",
      "70\n",
      "證人保護法\n",
      "71\n",
      "受雇人於非職務上研究或開發之營業秘密，仍歸雇用人所有\n",
      "72\n",
      "開工邀請公務員觀禮\n",
      "73\n",
      "工業排放廢氣\n",
      "74\n",
      "環境影響評估法\n",
      "75\n",
      "材質可以回收的商品\n",
      "76\n",
      "氟氯碳化物\n",
      "77\n",
      "不斷電系統UPS先啟動，緊急發電機是後備的\n",
      "78\n",
      "六分之一\n",
      "79\n",
      "能源效率標示\n",
      "80\n",
      "二氧化碳(CO2\n"
     ]
    }
   ],
   "source": [
    "for i in range(2, len(questions)):\n",
    "#     print(questions[i].text.split(' 【')[1].split('】')[0].split(\"-\"))\n",
    "    QuestionGroup = questions[i].text.split(' 【')[1].split('】')[0].split(\"-\")[0]\n",
    "    topic = questions[i].text.split(' 【')[1].split('】')[0].split(\"-\")[1]\n",
    "#     print(topic)  \n",
    "    \n",
    "    one = questions[i].text.split(') ')[1-5].split('   (')[0].split('  \\n')[0].split(' ')[0]\n",
    "    two = questions[i].text.split(') ')[1-4].split('   (')[0].split('  \\n')[0].split(' ')[0]\n",
    "    three = questions[i].text.split(') ')[1-3].split('   (')[0].split('  \\n')[0].split(' ')[0]\n",
    "    four = questions[i].text.split(') ')[1-2].split('   (')[0].split('  \\n')[0].split(' ')[0]\n",
    "     \n",
    "\n",
    "# one   = 答案1234\n",
    "# two   = 答案1234\n",
    "# three = 答案1234 \n",
    "# four  = 答案1234  \n",
    "\n",
    "    \n",
    "    Ansertest = searchAnswer(QuestionGroup,topic)\n",
    "    \n",
    "    driver.switch_to.frame(\"main\") \n",
    "    questions = driver.find_elements(By.XPATH, '/html/body/center/form/div/table/tbody/tr')\n",
    "    \n",
    "    num = i-2    \n",
    "    \n",
    "    \n",
    "    rate = 0.5\n",
    "    \n",
    "    if similarity(one, Ansertest) >= rate:\n",
    "        driver.find_elements_by_name(\"ans\"+str(num))[0].click()\n",
    "    elif similarity(four, Ansertest) >= rate:\n",
    "        driver.find_elements_by_name(\"ans\"+str(num))[1].click()\n",
    "    elif similarity(three, Ansertest) >= rate:\n",
    "        driver.find_elements_by_name(\"ans\"+str(num))[2].click()    \n",
    "    elif similarity(two, Ansertest) >= rate:\n",
    "        driver.find_elements_by_name(\"ans\"+str(num))[3].click()    \n",
    "    \n",
    "    \n",
    "    if one == Ansertest:\n",
    "        driver.find_elements_by_name(\"ans\"+str(num))[0].click()\n",
    "    elif two == Ansertest:\n",
    "        driver.find_elements_by_name(\"ans\"+str(num))[1].click()\n",
    "    elif three == Ansertest:\n",
    "        driver.find_elements_by_name(\"ans\"+str(num))[2].click()\n",
    "    elif four == Ansertest:\n",
    "        driver.find_elements_by_name(\"ans\"+str(num))[3].click()\n",
    "             \n",
    "    print(i-1)\n",
    "    print(Ansertest)\n"
   ]
  },
  {
   "cell_type": "code",
   "execution_count": 17,
   "id": "95bd098a",
   "metadata": {},
   "outputs": [],
   "source": [
    "# driver.switch_to.frame(\"main\")\n",
    "# questions = driver.find_elements(By.XPATH, '/html/body/center/form/div/table/tbody/tr')"
   ]
  },
  {
   "cell_type": "code",
   "execution_count": 18,
   "id": "ff867ced",
   "metadata": {},
   "outputs": [],
   "source": [
    "# for i in range(2, len(questions)):\n",
    "    \n",
    "#     zero = questions[i].text.split(') ')[1-0].split('   (')[0].split('  \\n')[0]\n",
    "#     four = questions[i].text.split(') ')[1-4].split('   (')[0].split('  \\n')[0]\n",
    "#     three = questions[i].text.split(') ')[1-3].split('   (')[0].split('  \\n')[0]\n",
    "#     two = questions[i].text.split(') ')[1-2].split('   (')[0].split('  \\n')[0]\n",
    "    \n",
    "#     if zero == Ansertest:\n",
    "#         driver.find_elements_by_name(\"ans0\")[0].click()\n",
    "#     elif four == Ansertest:\n",
    "#         driver.find_elements_by_name(\"ans0\")[1].click()\n",
    "#     elif three == Ansertest:\n",
    "#         driver.find_elements_by_name(\"ans0\")[2].click()\n",
    "#     elif two == Ansertest:\n",
    "#         driver.find_elements_by_name(\"ans0\")[3].click()\n",
    "        \n",
    "    \n",
    "    \n",
    "    \n",
    "    \n",
    "    \n",
    "# print(asd)\n",
    "    \n",
    "    \n",
    "    \n",
    "    \n",
    "# (5)=1選項\n",
    "# (4)=2\n",
    "# (3)=3\n",
    "# (2)=4\n",
    "\n",
    "    "
   ]
  },
  {
   "cell_type": "code",
   "execution_count": 19,
   "id": "c20dcfc3",
   "metadata": {},
   "outputs": [
    {
     "name": "stdout",
     "output_type": "stream",
     "text": [
      "二氧化碳(CO2\n",
      "  (4\n",
      "六氟化硫(SF6\n",
      " \n"
     ]
    }
   ],
   "source": [
    "for i in range(2, len(questions)):\n",
    "    \n",
    "    zero = questions[i].text.split(') ')[1-5].split('   (')[0].split('  \\n')[0]\n",
    "    four = questions[i].text.split(') ')[1-4].split('   (')[0].split('  \\n')[0]\n",
    "    three = questions[i].text.split(') ')[1-3].split('   (')[0].split('  \\n')[0]\n",
    "    two = questions[i].text.split(') ')[1-2].split('   (')[0].split('  \\n')[0]\n",
    "    \n",
    "    \n",
    "print(zero)\n",
    "print(four)\n",
    "print(three)\n",
    "print(two)\n",
    "    \n",
    "\n",
    "    \n",
    "#     if zero == Ansertest:\n",
    "#         driver.find_elements_by_name(\"ans0\")[0].click()\n",
    "#     elif four == Ansertest:\n",
    "#         driver.find_elements_by_name(\"ans0\")[1].click()\n",
    "#     elif three == Ansertest:\n",
    "#         driver.find_elements_by_name(\"ans0\")[2].click()\n",
    "#     elif two == Ansertest:\n",
    "#         driver.find_elements_by_name(\"ans0\")[3].click()"
   ]
  },
  {
   "cell_type": "code",
   "execution_count": null,
   "id": "ab4aea78",
   "metadata": {},
   "outputs": [],
   "source": []
  },
  {
   "cell_type": "code",
   "execution_count": null,
   "id": "56fa85da",
   "metadata": {},
   "outputs": [],
   "source": []
  },
  {
   "cell_type": "code",
   "execution_count": 20,
   "id": "b94d0760",
   "metadata": {},
   "outputs": [],
   "source": [
    "# len(\"questions\")"
   ]
  },
  {
   "cell_type": "code",
   "execution_count": 21,
   "id": "fdef6aae",
   "metadata": {},
   "outputs": [],
   "source": [
    "# print(Ansertest)"
   ]
  },
  {
   "cell_type": "code",
   "execution_count": null,
   "id": "a520fbaa",
   "metadata": {},
   "outputs": [],
   "source": []
  },
  {
   "cell_type": "code",
   "execution_count": null,
   "id": "94f301c2",
   "metadata": {},
   "outputs": [],
   "source": []
  },
  {
   "cell_type": "code",
   "execution_count": 22,
   "id": "03d8ab8a",
   "metadata": {},
   "outputs": [],
   "source": [
    "# driver.find_elements_by_name(\"ans0\")[0].click()"
   ]
  },
  {
   "cell_type": "code",
   "execution_count": null,
   "id": "448b2111",
   "metadata": {},
   "outputs": [],
   "source": []
  },
  {
   "cell_type": "code",
   "execution_count": null,
   "id": "60faf7fe",
   "metadata": {},
   "outputs": [],
   "source": []
  },
  {
   "cell_type": "code",
   "execution_count": null,
   "id": "b4df1eac",
   "metadata": {},
   "outputs": [],
   "source": []
  },
  {
   "cell_type": "code",
   "execution_count": null,
   "id": "c981790f",
   "metadata": {},
   "outputs": [],
   "source": []
  },
  {
   "cell_type": "code",
   "execution_count": null,
   "id": "fa5203e4",
   "metadata": {},
   "outputs": [],
   "source": []
  },
  {
   "cell_type": "code",
   "execution_count": null,
   "id": "c3b3331a",
   "metadata": {},
   "outputs": [],
   "source": []
  },
  {
   "cell_type": "code",
   "execution_count": 23,
   "id": "42c2dacb",
   "metadata": {},
   "outputs": [],
   "source": [
    "# searchAnswer(\"05\",\"23\")"
   ]
  },
  {
   "cell_type": "code",
   "execution_count": 24,
   "id": "5ceb31cf",
   "metadata": {},
   "outputs": [],
   "source": [
    "# url = \"https://yamol.tw/item-\" + str(783394) + \".htm\"\n",
    "# response = requests.get(url)\n",
    "# soup     = BeautifulSoup(response.text, 'html.parser')\n",
    "\n",
    "# selects = soup.select(\"div.col-sm-6.col-md-4.col-lg-4\")\n",
    "# Answer = selects[0].a.text\n",
    "\n",
    "# titles = soup.select(\"span.itemcontent\")[0].text.split('(')\n",
    "\n",
    "# for title in titles:\n",
    "#     if title.split(')')[0] == Answer:\n",
    "#         AnswerText = title.split(')')[1].split(' ')[0].split('。')[0].replace(\"\\n\", \"\")\n",
    "    "
   ]
  },
  {
   "cell_type": "code",
   "execution_count": 25,
   "id": "d1210e41",
   "metadata": {},
   "outputs": [],
   "source": [
    "# selects"
   ]
  },
  {
   "cell_type": "code",
   "execution_count": 26,
   "id": "0c5f0fa2",
   "metadata": {},
   "outputs": [],
   "source": [
    "# Answer"
   ]
  },
  {
   "cell_type": "code",
   "execution_count": 27,
   "id": "e62a60a6",
   "metadata": {},
   "outputs": [],
   "source": [
    "# titles"
   ]
  },
  {
   "cell_type": "code",
   "execution_count": 28,
   "id": "4b467b02",
   "metadata": {},
   "outputs": [],
   "source": [
    "# title.split(')')[0]"
   ]
  },
  {
   "cell_type": "code",
   "execution_count": null,
   "id": "b070452c",
   "metadata": {},
   "outputs": [],
   "source": []
  },
  {
   "cell_type": "code",
   "execution_count": 29,
   "id": "c4718929",
   "metadata": {},
   "outputs": [],
   "source": [
    "# AnswerText"
   ]
  },
  {
   "cell_type": "code",
   "execution_count": 30,
   "id": "b05d1a60",
   "metadata": {},
   "outputs": [],
   "source": [
    "def similarity(a, b):\n",
    "    return SequenceMatcher(None, a, b).ratio()"
   ]
  },
  {
   "cell_type": "code",
   "execution_count": 31,
   "id": "1532570b",
   "metadata": {},
   "outputs": [
    {
     "data": {
      "text/plain": [
       "0.7272727272727273"
      ]
     },
     "execution_count": 31,
     "metadata": {},
     "output_type": "execute_result"
    }
   ],
   "source": [
    "similarity('借：備抵呆帳－應收帳款', '借：備抵損失—應收帳款')"
   ]
  },
  {
   "cell_type": "code",
   "execution_count": null,
   "id": "e568d62b",
   "metadata": {},
   "outputs": [],
   "source": []
  },
  {
   "cell_type": "code",
   "execution_count": null,
   "id": "48e3c941",
   "metadata": {},
   "outputs": [],
   "source": []
  },
  {
   "cell_type": "code",
   "execution_count": null,
   "id": "405e3302",
   "metadata": {},
   "outputs": [],
   "source": []
  },
  {
   "cell_type": "code",
   "execution_count": null,
   "id": "afa80cf3",
   "metadata": {},
   "outputs": [],
   "source": []
  },
  {
   "cell_type": "code",
   "execution_count": null,
   "id": "4f0fd2b8",
   "metadata": {},
   "outputs": [],
   "source": []
  },
  {
   "cell_type": "code",
   "execution_count": null,
   "id": "577a3f0c",
   "metadata": {},
   "outputs": [],
   "source": []
  },
  {
   "cell_type": "code",
   "execution_count": null,
   "id": "2a260b6b",
   "metadata": {},
   "outputs": [],
   "source": []
  },
  {
   "cell_type": "code",
   "execution_count": null,
   "id": "053da16f",
   "metadata": {},
   "outputs": [],
   "source": []
  },
  {
   "cell_type": "code",
   "execution_count": null,
   "id": "20f343c2",
   "metadata": {},
   "outputs": [],
   "source": []
  },
  {
   "cell_type": "code",
   "execution_count": null,
   "id": "2e68d4a3",
   "metadata": {},
   "outputs": [],
   "source": []
  }
 ],
 "metadata": {
  "kernelspec": {
   "display_name": "Python 3",
   "language": "python",
   "name": "python3"
  },
  "language_info": {
   "codemirror_mode": {
    "name": "ipython",
    "version": 3
   },
   "file_extension": ".py",
   "mimetype": "text/x-python",
   "name": "python",
   "nbconvert_exporter": "python",
   "pygments_lexer": "ipython3",
   "version": "3.7.9"
  }
 },
 "nbformat": 4,
 "nbformat_minor": 5
}
