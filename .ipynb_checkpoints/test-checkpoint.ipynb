{
 "cells": [
  {
   "cell_type": "code",
   "execution_count": 1,
   "metadata": {},
   "outputs": [],
   "source": [
    "from selenium import webdriver\n",
    "from selenium.webdriver.common.keys import Keys\n",
    "from selenium.webdriver.common.by import By\n",
    "import requests\n",
    "from bs4 import BeautifulSoup\n",
    "import pyautogui\n",
    "import void\n",
    "from difflib import SequenceMatcher"
   ]
  },
  {
   "cell_type": "code",
   "execution_count": 2,
   "metadata": {},
   "outputs": [],
   "source": [
    "def similarity(a, b):\n",
    "    return SequenceMatcher(None, a, b).ratio()"
   ]
  },
  {
   "cell_type": "code",
   "execution_count": 3,
   "metadata": {},
   "outputs": [],
   "source": [
    "driver = webdriver.Chrome()"
   ]
  },
  {
   "cell_type": "code",
   "execution_count": 4,
   "metadata": {},
   "outputs": [],
   "source": [
    "driver.get(\"http://onlinetest1-3.slhs.tp.edu.tw/test2/main/simulate_exec.asp?gexamid=t14900&pcount=80&pastid=all\")"
   ]
  },
  {
   "cell_type": "code",
   "execution_count": 5,
   "metadata": {},
   "outputs": [],
   "source": [
    "url1 = 'http://google.com'\n",
    "strScript = 'window.open(\"'+url1+'\");'"
   ]
  },
  {
   "cell_type": "code",
   "execution_count": 6,
   "metadata": {},
   "outputs": [],
   "source": [
    "driver.execute_script(strScript)"
   ]
  },
  {
   "cell_type": "code",
   "execution_count": 7,
   "metadata": {},
   "outputs": [],
   "source": [
    "# pyautogui.hotkey('ctrl', 't', interval=0.1)"
   ]
  },
  {
   "cell_type": "code",
   "execution_count": 8,
   "metadata": {},
   "outputs": [],
   "source": [
    "driver.switch_to.window(driver.window_handles[0])"
   ]
  },
  {
   "cell_type": "code",
   "execution_count": 9,
   "metadata": {},
   "outputs": [],
   "source": [
    "driver.find_elements_by_name(\"examinterface\")[1].click()"
   ]
  },
  {
   "cell_type": "code",
   "execution_count": 10,
   "metadata": {},
   "outputs": [],
   "source": [
    "driver.find_element_by_id(\"n1\").click()"
   ]
  },
  {
   "cell_type": "code",
   "execution_count": 11,
   "metadata": {},
   "outputs": [],
   "source": [
    "driver.find_element_by_partial_link_text('開始測驗').click()"
   ]
  },
  {
   "cell_type": "code",
   "execution_count": 12,
   "metadata": {},
   "outputs": [],
   "source": [
    "# pyautogui.hotkey('ctrl', 't', interval=0.1)\n",
    "# driver.switch_to.window(driver.window_handles[1])\n",
    "# driver.get(\"www.google.com\")"
   ]
  },
  {
   "cell_type": "code",
   "execution_count": 13,
   "metadata": {},
   "outputs": [],
   "source": [
    "def searchAnswer(QuestionGroup,topic):\n",
    "    if QuestionGroup   == \"01\"    :orrectTopic = int(topic) + 782797\n",
    "    elif QuestionGroup == \"02\"    :orrectTopic = int(topic) + 782942\n",
    "    elif QuestionGroup == \"03\"    :orrectTopic = int(topic) + 783183\n",
    "    elif QuestionGroup == \"04\"    :orrectTopic = int(topic) + 783493\n",
    "    elif QuestionGroup == \"05\"    :orrectTopic = int(topic) + 783390\n",
    "    elif QuestionGroup == \"90006\" :orrectTopic = int(topic) + 1755528\n",
    "    elif QuestionGroup == \"90007\" :orrectTopic = int(topic) + 2053551\n",
    "    elif QuestionGroup == \"90008\" :orrectTopic = int(topic) + 1755728\n",
    "    elif QuestionGroup == \"90009\" :orrectTopic = int(topic) + 2025890\n",
    "        \n",
    "    url = \"https://yamol.tw/item-\" + str(orrectTopic) + \".htm\"\n",
    "    \n",
    "    driver.switch_to.window(driver.window_handles[1])\n",
    "    driver.get(url)\n",
    "    ans = driver.find_element_by_class_name(\"col-sm-6.col-md-4.col-lg-4\")\n",
    "    answer = ans.text.split(\"\\n\")[0].split(\"：\")[1]\n",
    "    selects = driver.find_element_by_class_name(\"itemcontent\")\n",
    "    if answer == \"A\":\n",
    "        number = 5\n",
    "    elif answer == \"B\":\n",
    "        number = 4\n",
    "    elif answer == \"C\":\n",
    "        number = 3\n",
    "    elif answer == \"D\":\n",
    "        number = 2\n",
    "    \n",
    "    lastAnswer = selects.text.split(\"#\")[0].split(\"\\n(\")[1-number].split(\")\")[1].split('。')[0].replace(\"\\n\", \"\")\n",
    "    \n",
    "    driver.switch_to.window(driver.window_handles[0])\n",
    "    \n",
    "    return lastAnswer\n",
    "    "
   ]
  },
  {
   "cell_type": "code",
   "execution_count": 14,
   "metadata": {},
   "outputs": [],
   "source": [
    "# driver.switch_to.window(driver.window_handles[0])\n",
    "driver.switch_to.frame(\"main\") "
   ]
  },
  {
   "cell_type": "code",
   "execution_count": 15,
   "metadata": {},
   "outputs": [],
   "source": [
    "questions = driver.find_elements(By.XPATH, '/html/body/center/form/div/table/tbody/tr')"
   ]
  },
  {
   "cell_type": "code",
   "execution_count": 16,
   "metadata": {},
   "outputs": [
    {
     "name": "stdout",
     "output_type": "stream",
     "text": [
      "1\n",
      "增加無形資產\n",
      "2\n",
      "碳煙粒子\n",
      "3\n",
      "可以 用11除盡求得錯誤金額\n",
      "4\n",
      "由以現金、進貨、銷貨，再回復為現金之循環\n",
      "5\n",
      "依企業本身採用的會計期間\n",
      "6\n",
      "借：預付貨款$4,000，貸：應付票據$4,000\n",
      "7\n",
      "理論上結帳後試算表無收益與費損類科目，但會列示「本期損益」的 科目與金額\n",
      "8\n",
      "會減少本期負債\n",
      "9\n",
      "中央主管機關定之\n",
      "10\n",
      "某一科目\n",
      "11\n",
      "借方、貸方總額各減$5,000\n",
      "12\n",
      "期末存貨\n",
      "13\n",
      "帳戶\n",
      "14\n",
      "資產成本減去估計殘值部分\n",
      "15\n",
      "各科目金額變動情形\n",
      "16\n",
      "本期淨損\n",
      "17\n",
      "轉帳分錄\n",
      "18\n",
      "借記暫付款$4,000\n",
      "19\n",
      "預算編列\n",
      "20\n",
      "會計事項發生時 記入帳簿\n",
      "21\n",
      "$16,000\n",
      "22\n",
      "營業人銷貨退回／進貨退出或折讓證明單\n",
      "23\n",
      "借貸方均少計$1,000\n",
      "24\n",
      "利益$6,000\n",
      "25\n",
      "餘額式試算表\n",
      "26\n",
      "$770,000\n",
      "27\n",
      "原始憑證的取得\n",
      "28\n",
      "其他代客記帳業者\n",
      "29\n",
      "仍然相等\n",
      "30\n",
      "依規定裝訂或保管會計憑 證\n",
      "31\n",
      "其他代客記帳業者\n",
      "32\n",
      "資產與費損的混合\n",
      "33\n",
      "二個月\n",
      "34\n",
      "即時連線處理\n",
      "35\n",
      "在鄉（鎮）為鄉（鎮）公所\n",
      "36\n",
      "五年\n",
      "37\n",
      "借方多$900， 貸方無誤\n",
      "38\n",
      "存貨\n",
      "39\n",
      "負債\n",
      "40\n",
      "傳票內容輸入\n",
      "41\n",
      "淨利$5,000\n",
      "42\n",
      "$150,000\n",
      "43\n",
      "現購商品$500，過帳時記入進貨借方 $500，現金借方$500\n",
      "44\n",
      "借方$9,000\n",
      "45\n",
      "應納稅額\n",
      "46\n",
      "$200,000\n",
      "47\n",
      "利息 費用\n",
      "48\n",
      "先登日期，次登金額，再登日頁\n",
      "49\n",
      "預收收益已實現部分\n",
      "50\n",
      "借：利息收入$500，貸：現金$500\n",
      "51\n",
      "保險費$8,000\n",
      "52\n",
      "貸餘$6,000\n",
      "53\n",
      "重大性\n",
      "54\n",
      "伺服器\n",
      "55\n",
      "結轉下期\n",
      "56\n",
      "每過一筆\n",
      "57\n",
      "提供財務資訊給有關人員作決 策參考\n",
      "58\n",
      "驗算總分類帳各帳戶借貸雙方之金 額是否平衡\n",
      "59\n",
      "處五 年以下有期徒刑、拘役或科或併科新臺幣六十萬元以下罰金\n",
      "60\n",
      "$9,000\n",
      "61\n",
      "服務可行性\n",
      "62\n",
      "106\n",
      "63\n",
      "郵電費$450、文具用品$400\n",
      "64\n",
      "借：薪資支出$26,000，貸：現金$24,440、代收款$1,560\n",
      "65\n",
      "應計入加班費\n",
      "66\n",
      "經期紊亂\n",
      "67\n",
      "工作相關過勞程度輕微\n",
      "68\n",
      "血壓降低、呼吸急促、精神亢奮\n",
      "69\n",
      "保持親切、真誠、客戶至上的態度\n",
      "70\n",
      "犯罪未發覺前\n",
      "71\n",
      "公司\n",
      "72\n",
      "公職人員利益衝突迴避法\n",
      "73\n",
      "有民眾或團體抗爭\n",
      "74\n",
      "定期進行海水水質監測\n",
      "75\n",
      "種植樹木\n",
      "76\n",
      "包裝飲料＞包裝飲用水＞自行煮水\n",
      "77\n",
      "應先關閉電源總 開關箱內控制該插座的分路開關\n",
      "78\n",
      "屋頂儲水隔熱\n",
      "79\n",
      "想吃多少儘量點，剩下可當廚餘回收\n",
      "80\n",
      " 有無在線路上裝設漏電斷路器\n"
     ]
    }
   ],
   "source": [
    "for i in range(2, len(questions)):\n",
    "#     print(questions[i].text.split(' 【')[1].split('】')[0].split(\"-\"))\n",
    "\n",
    "    QuestionGroup = questions[i].text.split(' 【')[1].split('】')[0].split(\"-\")[0]\n",
    "    topic = questions[i].text.split(' 【')[1].split('】')[0].split(\"-\")[1]\n",
    "#     print(topic)  \n",
    "    \n",
    "    one = questions[i].text.split(') ')[1-5].split('   (')[0].split('  \\n')[0].split(' ')[0]\n",
    "    two = questions[i].text.split(') ')[1-4].split('   (')[0].split('  \\n')[0].split(' ')[0]\n",
    "    three = questions[i].text.split(') ')[1-3].split('   (')[0].split('  \\n')[0].split(' ')[0]\n",
    "    four = questions[i].text.split(') ')[1-2].split('   (')[0].split('  \\n')[0].split(' ')[0]\n",
    "     \n",
    "\n",
    "# one   = 答案1234\n",
    "# two   = 答案1234\n",
    "# three = 答案1234 \n",
    "# four  = 答案1234  \n",
    "\n",
    "    \n",
    "    Ansertest = searchAnswer(QuestionGroup,topic)\n",
    "    \n",
    "    driver.switch_to.frame(\"main\") \n",
    "    questions = driver.find_elements(By.XPATH, '/html/body/center/form/div/table/tbody/tr')\n",
    "    \n",
    "    num = i-2    \n",
    "    \n",
    "    \n",
    "    rate = 0.4\n",
    "    \n",
    "    if similarity(one, Ansertest) >= rate:\n",
    "        driver.find_elements_by_name(\"ans\"+str(num))[0].click()\n",
    "    elif similarity(four, Ansertest) >= rate:\n",
    "        driver.find_elements_by_name(\"ans\"+str(num))[1].click()\n",
    "    elif similarity(three, Ansertest) >= rate:\n",
    "        driver.find_elements_by_name(\"ans\"+str(num))[2].click()    \n",
    "    elif similarity(two, Ansertest) >= rate:\n",
    "        driver.find_elements_by_name(\"ans\"+str(num))[3].click()    \n",
    "    \n",
    "    \n",
    "    if one == Ansertest:\n",
    "        driver.find_elements_by_name(\"ans\"+str(num))[0].click()\n",
    "    elif two == Ansertest:\n",
    "        driver.find_elements_by_name(\"ans\"+str(num))[1].click()\n",
    "    elif three == Ansertest:\n",
    "        driver.find_elements_by_name(\"ans\"+str(num))[2].click()\n",
    "    elif four == Ansertest:\n",
    "        driver.find_elements_by_name(\"ans\"+str(num))[3].click()\n",
    "    else:\n",
    "        strScript = 'window.open(\"'+url1+'\");'\n",
    "        driver.execute_script(strScript)\n",
    "        subject = questions[i].text.split(\"     【\")[0].split(\"   \")[1]\n",
    "        driver.get(subject)\n",
    "        \n",
    "        \n",
    "        \n",
    "    \n",
    "    \n",
    "    \n",
    "    print(i-1)\n",
    "    print(Ansertest)\n"
   ]
  },
  {
   "cell_type": "code",
   "execution_count": 17,
   "metadata": {},
   "outputs": [],
   "source": [
    "# driver.switch_to.frame(\"main\")\n",
    "# questions = driver.find_elements(By.XPATH, '/html/body/center/form/div/table/tbody/tr')"
   ]
  },
  {
   "cell_type": "code",
   "execution_count": 18,
   "metadata": {},
   "outputs": [],
   "source": [
    "# for i in range(2, len(questions)):\n",
    "    \n",
    "#     zero = questions[i].text.split(') ')[1-0].split('   (')[0].split('  \\n')[0]\n",
    "#     four = questions[i].text.split(') ')[1-4].split('   (')[0].split('  \\n')[0]\n",
    "#     three = questions[i].text.split(') ')[1-3].split('   (')[0].split('  \\n')[0]\n",
    "#     two = questions[i].text.split(') ')[1-2].split('   (')[0].split('  \\n')[0]\n",
    "    \n",
    "#     if zero == Ansertest:\n",
    "#         driver.find_elements_by_name(\"ans0\")[0].click()\n",
    "#     elif four == Ansertest:\n",
    "#         driver.find_elements_by_name(\"ans0\")[1].click()\n",
    "#     elif three == Ansertest:\n",
    "#         driver.find_elements_by_name(\"ans0\")[2].click()\n",
    "#     elif two == Ansertest:\n",
    "#         driver.find_elements_by_name(\"ans0\")[3].click()\n",
    "        \n",
    "    \n",
    "    \n",
    "    \n",
    "    \n",
    "    \n",
    "# print(asd)\n",
    "    \n",
    "    \n",
    "    \n",
    "    \n",
    "# (5)=1選項\n",
    "# (4)=2\n",
    "# (3)=3\n",
    "# (2)=4\n",
    "\n",
    "    "
   ]
  },
  {
   "cell_type": "code",
   "execution_count": 19,
   "metadata": {},
   "outputs": [
    {
     "name": "stdout",
     "output_type": "stream",
     "text": [
      "有無可能傾倒及生鏽\n",
      "有無過載及過熱保護設備\n",
      "有無在線路上裝設漏電斷路器\n",
      "電氣設備上有無安全保險絲  \n"
     ]
    }
   ],
   "source": [
    "for i in range(2, len(questions)):\n",
    "    \n",
    "    zero = questions[i].text.split(') ')[1-5].split('   (')[0].split('  \\n')[0]\n",
    "    four = questions[i].text.split(') ')[1-4].split('   (')[0].split('  \\n')[0]\n",
    "    three = questions[i].text.split(') ')[1-3].split('   (')[0].split('  \\n')[0]\n",
    "    two = questions[i].text.split(') ')[1-2].split('   (')[0].split('  \\n')[0]\n",
    "    \n",
    "    \n",
    "print(zero)\n",
    "print(four)\n",
    "print(three)\n",
    "print(two)\n",
    "    \n",
    "\n",
    "    \n",
    "#     if zero == Ansertest:\n",
    "#         driver.find_elements_by_name(\"ans0\")[0].click()\n",
    "#     elif four == Ansertest:\n",
    "#         driver.find_elements_by_name(\"ans0\")[1].click()\n",
    "#     elif three == Ansertest:\n",
    "#         driver.find_elements_by_name(\"ans0\")[2].click()\n",
    "#     elif two == Ansertest:\n",
    "#         driver.find_elements_by_name(\"ans0\")[3].click()"
   ]
  },
  {
   "cell_type": "code",
   "execution_count": null,
   "metadata": {},
   "outputs": [],
   "source": []
  },
  {
   "cell_type": "code",
   "execution_count": null,
   "metadata": {},
   "outputs": [],
   "source": []
  },
  {
   "cell_type": "code",
   "execution_count": 20,
   "metadata": {},
   "outputs": [],
   "source": [
    "# len(\"questions\")"
   ]
  },
  {
   "cell_type": "code",
   "execution_count": 21,
   "metadata": {},
   "outputs": [],
   "source": [
    "# print(Ansertest)"
   ]
  },
  {
   "cell_type": "code",
   "execution_count": null,
   "metadata": {},
   "outputs": [],
   "source": []
  },
  {
   "cell_type": "code",
   "execution_count": null,
   "metadata": {},
   "outputs": [],
   "source": []
  },
  {
   "cell_type": "code",
   "execution_count": 22,
   "metadata": {},
   "outputs": [],
   "source": [
    "# driver.find_elements_by_name(\"ans0\")[0].click()"
   ]
  },
  {
   "cell_type": "code",
   "execution_count": null,
   "metadata": {},
   "outputs": [],
   "source": []
  },
  {
   "cell_type": "code",
   "execution_count": null,
   "metadata": {},
   "outputs": [],
   "source": []
  },
  {
   "cell_type": "code",
   "execution_count": null,
   "metadata": {},
   "outputs": [],
   "source": []
  },
  {
   "cell_type": "code",
   "execution_count": null,
   "metadata": {},
   "outputs": [],
   "source": []
  },
  {
   "cell_type": "code",
   "execution_count": null,
   "metadata": {},
   "outputs": [],
   "source": []
  },
  {
   "cell_type": "code",
   "execution_count": null,
   "metadata": {},
   "outputs": [],
   "source": []
  },
  {
   "cell_type": "code",
   "execution_count": 23,
   "metadata": {},
   "outputs": [],
   "source": [
    "# searchAnswer(\"05\",\"23\")"
   ]
  },
  {
   "cell_type": "code",
   "execution_count": 24,
   "metadata": {},
   "outputs": [],
   "source": [
    "# url = \"https://yamol.tw/item-\" + str(783394) + \".htm\"\n",
    "# response = requests.get(url)\n",
    "# soup     = BeautifulSoup(response.text, 'html.parser')\n",
    "\n",
    "# selects = soup.select(\"div.col-sm-6.col-md-4.col-lg-4\")\n",
    "# Answer = selects[0].a.text\n",
    "\n",
    "# titles = soup.select(\"span.itemcontent\")[0].text.split('(')\n",
    "\n",
    "# for title in titles:\n",
    "#     if title.split(')')[0] == Answer:\n",
    "#         AnswerText = title.split(')')[1].split(' ')[0].split('。')[0].replace(\"\\n\", \"\")\n",
    "    "
   ]
  },
  {
   "cell_type": "code",
   "execution_count": 25,
   "metadata": {},
   "outputs": [],
   "source": [
    "# selects"
   ]
  },
  {
   "cell_type": "code",
   "execution_count": 26,
   "metadata": {},
   "outputs": [],
   "source": [
    "# Answer"
   ]
  },
  {
   "cell_type": "code",
   "execution_count": 27,
   "metadata": {},
   "outputs": [],
   "source": [
    "# titles"
   ]
  },
  {
   "cell_type": "code",
   "execution_count": 28,
   "metadata": {},
   "outputs": [],
   "source": [
    "# title.split(')')[0]"
   ]
  },
  {
   "cell_type": "code",
   "execution_count": null,
   "metadata": {},
   "outputs": [],
   "source": []
  },
  {
   "cell_type": "code",
   "execution_count": 29,
   "metadata": {},
   "outputs": [],
   "source": [
    "# AnswerText"
   ]
  },
  {
   "cell_type": "code",
   "execution_count": 30,
   "metadata": {},
   "outputs": [],
   "source": [
    "def similarity(a, b):\n",
    "    return SequenceMatcher(None, a, b).ratio()"
   ]
  },
  {
   "cell_type": "code",
   "execution_count": 31,
   "metadata": {},
   "outputs": [
    {
     "data": {
      "text/plain": [
       "0.7272727272727273"
      ]
     },
     "execution_count": 31,
     "metadata": {},
     "output_type": "execute_result"
    }
   ],
   "source": [
    "similarity('借：備抵呆帳－應收帳款', '借：備抵損失—應收帳款')"
   ]
  },
  {
   "cell_type": "code",
   "execution_count": null,
   "metadata": {},
   "outputs": [],
   "source": []
  },
  {
   "cell_type": "code",
   "execution_count": null,
   "metadata": {},
   "outputs": [],
   "source": []
  },
  {
   "cell_type": "code",
   "execution_count": null,
   "metadata": {},
   "outputs": [],
   "source": []
  },
  {
   "cell_type": "code",
   "execution_count": null,
   "metadata": {},
   "outputs": [],
   "source": []
  },
  {
   "cell_type": "code",
   "execution_count": null,
   "metadata": {},
   "outputs": [],
   "source": []
  },
  {
   "cell_type": "code",
   "execution_count": null,
   "metadata": {},
   "outputs": [],
   "source": []
  },
  {
   "cell_type": "code",
   "execution_count": null,
   "metadata": {},
   "outputs": [],
   "source": []
  },
  {
   "cell_type": "code",
   "execution_count": null,
   "metadata": {},
   "outputs": [],
   "source": []
  },
  {
   "cell_type": "code",
   "execution_count": null,
   "metadata": {},
   "outputs": [],
   "source": []
  },
  {
   "cell_type": "code",
   "execution_count": null,
   "metadata": {},
   "outputs": [],
   "source": []
  }
 ],
 "metadata": {
  "kernelspec": {
   "display_name": "Python 3",
   "language": "python",
   "name": "python3"
  },
  "language_info": {
   "codemirror_mode": {
    "name": "ipython",
    "version": 3
   },
   "file_extension": ".py",
   "mimetype": "text/x-python",
   "name": "python",
   "nbconvert_exporter": "python",
   "pygments_lexer": "ipython3",
   "version": "3.7.9"
  }
 },
 "nbformat": 4,
 "nbformat_minor": 5
}
