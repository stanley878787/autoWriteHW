{
 "cells": [
  {
   "cell_type": "code",
   "execution_count": 65,
   "id": "8f484aa9",
   "metadata": {},
   "outputs": [],
   "source": [
    "from selenium import webdriver\n",
    "from selenium.webdriver.common.keys import Keys\n",
    "from selenium.webdriver.common.by import By"
   ]
  },
  {
   "cell_type": "code",
   "execution_count": 66,
   "id": "969a6d78",
   "metadata": {},
   "outputs": [],
   "source": [
    "from bs4 import BeautifulSoup\n",
    "import requests"
   ]
  },
  {
   "cell_type": "code",
   "execution_count": 67,
   "id": "b8ae04c6",
   "metadata": {},
   "outputs": [],
   "source": [
    "driver = webdriver.Chrome()"
   ]
  },
  {
   "cell_type": "code",
   "execution_count": 68,
   "id": "60b672ae",
   "metadata": {},
   "outputs": [],
   "source": [
    "driver.get(\"http://onlinetest1-3.slhs.tp.edu.tw/test2/main/simulate_exec.asp?gexamid=t14900&pcount=80&pastid=all\")"
   ]
  },
  {
   "cell_type": "code",
   "execution_count": 69,
   "id": "4cf40581",
   "metadata": {},
   "outputs": [],
   "source": [
    "driver.find_elements_by_name(\"examinterface\")[1].click()"
   ]
  },
  {
   "cell_type": "code",
   "execution_count": 70,
   "id": "f53a9a59",
   "metadata": {},
   "outputs": [],
   "source": [
    "driver.find_element_by_id(\"n1\").click()"
   ]
  },
  {
   "cell_type": "code",
   "execution_count": 71,
   "id": "5b50960b",
   "metadata": {},
   "outputs": [],
   "source": [
    "# driver.refresh()"
   ]
  },
  {
   "cell_type": "code",
   "execution_count": 72,
   "id": "71c1f76a",
   "metadata": {},
   "outputs": [],
   "source": [
    "driver.find_element_by_partial_link_text('開始測驗').click()"
   ]
  },
  {
   "cell_type": "code",
   "execution_count": 73,
   "id": "ed0cc636",
   "metadata": {},
   "outputs": [],
   "source": [
    "driver.switch_to.frame(\"main\")"
   ]
  },
  {
   "cell_type": "code",
   "execution_count": 74,
   "id": "920a1814",
   "metadata": {},
   "outputs": [],
   "source": [
    "questions = driver.find_elements(By.XPATH, '/html/body/center/form/div/table/tbody/tr')"
   ]
  },
  {
   "cell_type": "code",
   "execution_count": 75,
   "id": "2af1babd",
   "metadata": {},
   "outputs": [
    {
     "data": {
      "text/plain": [
       "'為了避免漏電而危害生命安全，下列何者不是正確的做法？'"
      ]
     },
     "execution_count": 75,
     "metadata": {},
     "output_type": "execute_result"
    }
   ],
   "source": [
    "for i in range(2, len(questions)):\n",
    "    subject = questions[i].text.split(\"     【\")[0].split(\"   \")[1]\n",
    "    \n",
    "    \n",
    "subject"
   ]
  },
  {
   "cell_type": "code",
   "execution_count": 64,
   "id": "0ff62e93",
   "metadata": {},
   "outputs": [],
   "source": [
    "url1 = 'http://google.com'\n",
    "strScript = 'window.open(\"'+url1+'\");'\n",
    "driver.execute_script(strScript)\n",
    "# subject = questions[i].text.split(\"     【\")[0].split(\"   \")[1]\n",
    "# driver.get(subject)\n",
    "driver.switch_to.window(driver.window_handles[1])\n",
    "driver.get(\"https://www.google.com/search?q=\"+\"電氣設備裝設於有潮濕水氣的環境時，最應該優先檢查及確認的措施是\"+\"&rlz=1C1CHBD_zh-TWTW887TW887&oq=\"+\"&aqs=chrome..69i57.3819j0j4&sourceid=chrome&ie=UTF-8\")\n",
    "\n",
    "\n",
    "\n",
    "\n",
    "\n",
    "\n",
    "\n"
   ]
  },
  {
   "cell_type": "code",
   "execution_count": 25,
   "id": "201cc036",
   "metadata": {},
   "outputs": [],
   "source": [
    "driver.find_elements_by_class_name(\"LC20lb.DKV0Md\")[0].click()"
   ]
  },
  {
   "cell_type": "code",
   "execution_count": 28,
   "id": "5c047c9b",
   "metadata": {},
   "outputs": [
    {
     "data": {
      "text/plain": [
       "<selenium.webdriver.remote.webelement.WebElement (session=\"d184c860c9bceb565a53db352ec30c0d\", element=\"d77f92dc-807e-417e-81b9-d9c3d86aecb2\")>"
      ]
     },
     "execution_count": 28,
     "metadata": {},
     "output_type": "execute_result"
    }
   ],
   "source": [
    "driver.find_element_by_class_name(\"col-sm-6.col-md-4.col-lg-4\")"
   ]
  },
  {
   "cell_type": "code",
   "execution_count": 31,
   "id": "40ca83b3",
   "metadata": {},
   "outputs": [
    {
     "data": {
      "text/plain": [
       "'A'"
      ]
     },
     "execution_count": 31,
     "metadata": {},
     "output_type": "execute_result"
    }
   ],
   "source": [
    "ans.text.split(\"\\n\")[0].split(\"：\")[1]"
   ]
  },
  {
   "cell_type": "code",
   "execution_count": 32,
   "id": "6d4a4e8d",
   "metadata": {},
   "outputs": [
    {
     "data": {
      "text/plain": [
       "<selenium.webdriver.remote.webelement.WebElement (session=\"d184c860c9bceb565a53db352ec30c0d\", element=\"f76cd730-8ad3-4ae3-9f4e-3a8a22728ce0\")>"
      ]
     },
     "execution_count": 32,
     "metadata": {},
     "output_type": "execute_result"
    }
   ],
   "source": [
    "driver.find_element_by_class_name(\"itemcontent\")"
   ]
  },
  {
   "cell_type": "code",
   "execution_count": 33,
   "id": "5949f7ba",
   "metadata": {},
   "outputs": [],
   "source": [
    "if answer == \"A\":\n",
    "        number = 5\n",
    "elif answer == \"B\":\n",
    "        number = 4\n",
    "elif answer == \"C\":\n",
    "        number = 3\n",
    "elif answer == \"D\":\n",
    "        number = 2"
   ]
  },
  {
   "cell_type": "code",
   "execution_count": 38,
   "id": "e5314b3d",
   "metadata": {},
   "outputs": [
    {
     "data": {
      "text/plain": [
       "'有無在線路上裝設漏電斷路器'"
      ]
     },
     "execution_count": 38,
     "metadata": {},
     "output_type": "execute_result"
    }
   ],
   "source": [
    "selects.text.split(\"#\")[0].split(\"\\n(\")[1-number].split(\")\")[1].split('。')[0].replace(\"\\n\", \"\")"
   ]
  },
  {
   "cell_type": "code",
   "execution_count": null,
   "id": "a092e072",
   "metadata": {},
   "outputs": [],
   "source": []
  },
  {
   "cell_type": "code",
   "execution_count": null,
   "id": "984b393d",
   "metadata": {},
   "outputs": [],
   "source": []
  },
  {
   "cell_type": "code",
   "execution_count": null,
   "id": "58590a9a",
   "metadata": {},
   "outputs": [],
   "source": [
    "# else:\n",
    "# #         subject = questions[i].text.split(\"     【\")[0].split(\"   \")[1]\n",
    "#         strScript = 'window.open(\"'+url1+'\");'\n",
    "#         driver.execute_script(strScript)\n",
    "#         driver.switch_to.window(driver.window_handles[2])\n",
    "#         driver.get(\"https://www.google.com/search?q=\"+subject+\"&rlz=1C1CHBD_zh-TWTW887TW887&oq=\"+\"&aqs=chrome..69i57.3819j0j4&sourceid=chrome&ie=UTF-8\")\n",
    "#         driver.find_elements_by_class_name(\"LC20lb.DKV0Md\")[0].click()\n",
    "#         Ans = driver.find_element_by_class_name(\"col-sm-6.col-md-4.col-lg-4\")\n",
    "#         Answer = Ans.text.split(\"\\n\")[0].split(\"：\")[1]\n",
    "#         Selects = driver.find_element_by_class_name(\"itemcontent\")\n",
    "#         if Answer == \"A\":\n",
    "#             number = 5\n",
    "#         elif Answer == \"B\":\n",
    "#             number = 4\n",
    "#         elif Answer == \"C\":\n",
    "#             number = 3\n",
    "#         elif Answer == \"D\":\n",
    "#             number = 2\n",
    "#         driver.switch_to.window(driver.window_handles[0])\n",
    "#         checkanswer = Selects.text.split(\"#\")[0].split(\"\\n(\")[1-number].split(\")\")[1].split('。')[0].replace(\"\\n\", \"\")\n",
    "\n",
    "\n",
    "#         driver.switch_to.frame(\"main\") \n",
    "#         questions = driver.find_elements(By.XPATH, '/html/body/center/form/div/table/tbody/tr')\n",
    "\n",
    "#         if one == checkanswer:\n",
    "#             driver.find_elements_by_name(\"ans\"+str(num))[0].click()\n",
    "#         elif two == checkanswer:\n",
    "#             driver.find_elements_by_name(\"ans\"+str(num))[1].click()\n",
    "#         elif three == checkanswer:\n",
    "#             driver.find_elements_by_name(\"ans\"+str(num))[2].click()\n",
    "#         elif four == checkanswer:\n",
    "#             driver.find_elements_by_name(\"ans\"+str(num))[3].click() "
   ]
  },
  {
   "cell_type": "code",
   "execution_count": null,
   "id": "8801b7fa",
   "metadata": {},
   "outputs": [],
   "source": []
  },
  {
   "cell_type": "code",
   "execution_count": null,
   "id": "735acdad",
   "metadata": {},
   "outputs": [],
   "source": []
  },
  {
   "cell_type": "code",
   "execution_count": null,
   "id": "f32134c4",
   "metadata": {},
   "outputs": [],
   "source": []
  },
  {
   "cell_type": "code",
   "execution_count": null,
   "id": "ff5f0c03",
   "metadata": {},
   "outputs": [],
   "source": []
  },
  {
   "cell_type": "code",
   "execution_count": null,
   "id": "1d28b4f5",
   "metadata": {},
   "outputs": [],
   "source": []
  },
  {
   "cell_type": "code",
   "execution_count": null,
   "id": "7384fba8",
   "metadata": {},
   "outputs": [],
   "source": []
  },
  {
   "cell_type": "code",
   "execution_count": null,
   "id": "3b3ca592",
   "metadata": {},
   "outputs": [],
   "source": []
  },
  {
   "cell_type": "code",
   "execution_count": null,
   "id": "7c9e391d",
   "metadata": {},
   "outputs": [],
   "source": []
  },
  {
   "cell_type": "code",
   "execution_count": null,
   "id": "c3e6c413",
   "metadata": {},
   "outputs": [],
   "source": []
  },
  {
   "cell_type": "code",
   "execution_count": 13,
   "id": "565ae604",
   "metadata": {},
   "outputs": [
    {
     "name": "stdout",
     "output_type": "stream",
     "text": [
      "第一部分：單選題 - 80題\n",
      "題號 作答 題　　　　　　　　　　目\n",
      "1   結帳後收益帳戶     【03-179】\n",
      "(1) 發生借額   (2) 沒有餘額   (3) 不一定   (4) 發生貸額  \n",
      "2   現金交易其中有一筆收入$1,000，誤過入現金帳戶的貸方，則總額式試算表     【02-227】\n",
      "(1) 借方、貸方各少$1,000   (2) 借方、貸方各多$1,000  \n",
      "(3) 借方少計$1,000，貸方多計$1,000   (4) 借方多計$1,000，貸方少計$1,000  \n",
      "3   結帳後，文具用品帳戶     【03-169】\n",
      "(1) 有貸餘   (2) 有借餘   (3) 不一定有餘額   (4) 沒有餘額  \n",
      "4   將應收帳款主檔以硬碟儲存，主要是     【04-114】\n",
      "(1) 以硬碟儲存，成本較低   (2) 可以快速存取及更新資料   (3) 統一媒體儲存工具   (4) 便利批次處理銷貨資料  \n",
      "5   企業在使用電腦化會計作業前，應先分析系統的需求，包括：A.資訊需求、B.硬體需求、C.組織需求、D.控制需求，其正確的順序為     【04-31】\n",
      "(1) A→C→D→B   (2) B→C→A→D   (3) D→B→C→A   (4) C→D→B→A  \n",
      "6   以下何者不屬於通訊網路的組成元件     【04-65】\n",
      "(1) 多媒體設備   (2) 傳輸媒介   (3) 電腦設備   (4) 網路作業系統  \n",
      "7   將資料處理過程所產生的資訊提供給使用者，以作為修正或改良原來的輸入程式或資料處理程式的活動稱為     【04-85】\n",
      "(1) 歸納   (2) 統計   (3) 分析   (4) 回饋  \n",
      "8   過帳乃指     【02-117】\n",
      "(1) 從日記簿之金額順查至分類帳   (2) 將日記簿之金額過入分類帳   (3) 將分類帳之餘額抄入試算表   (4) 記錄日記簿上之分錄  \n",
      "9   電子商務的現實涉及許多法律問題，以下敘述何者正確     【04-50】\n",
      "(1) 在網路遊戲所用的虛擬貨幣，若遭詐欺或竊取亦無法可管  \n",
      "(2) 數位產品(如影片、音樂等)因易於廉價地被複製，故容易受到不當的散播  \n",
      "(3) 在網路中由於採匿名方式，故擁有完全之言論自由，不須負責法律責任  \n",
      "(4) 電子交易中，消費者不受到與實體交易同等之法律保護  \n",
      "10   實帳戶之結帳，在求出借貸雙方總和的差額後，將其填列在數額較小一方的金額欄內，並在摘要欄內註明     【03-189】\n",
      "(1) 本期差額   (2) 本期損益   (3) 結轉下期   (4) 累計差額  \n",
      "11   設立不動產、廠房及設備明細帳之目的不是為了     【02-111】\n",
      "(1) 簡化記錄   (2) 估計資產價值   (3) 加強不動產廠房及設備之控管   (4) 便於編表  \n",
      "12   台南公司之用品盤存期初金額$50,000，本期耗用$10,000，則有關調整分錄之敘述何者有誤     【03-103】\n",
      "(1) 經調整分錄後，期末用品盤存餘額為$40,000   (2) 貸方為累計費用－用品盤存$10,000  \n",
      "(3) 借方為文具用品$10,000   (4) 貸方為用品盤存$10,000  \n",
      "13   下列何項為錯誤     【02-70】\n",
      "(1) 所有分錄均應記入日記簿內   (2) 日記簿之類頁欄是記載日記簿之頁數   (3) 賒購商品一批之交易，應為轉帳分錄   (4) 每一分錄借貸雙方金額必定相等  \n",
      "14   調整後試算表     【02-202】\n",
      "(1) 僅列實帳戶餘額   (2) 僅列商品帳戶餘額   (3) 僅列虛帳戶餘額   (4) 虛、實帳戶餘額均列  \n",
      "15   劃分會計期間之目的為     【01-10】\n",
      "(1) 有助於分工合作   (2) 便於計算損益   (3) 反應幣值漲跌   (4) 防止內部舞弊  \n",
      "16   資產負債表與綜合損益表之連鎖關係在於     【03-218】\n",
      "(1) 銷貨成本   (2) 業主資本   (3) 業主往來   (4) 本期損益  \n",
      "17   日記簿是每一企業的     【02-25】\n",
      "(1) 備忘記錄   (2) 非正式帳簿   (3) 正式帳簿   (4) 補助帳簿  \n",
      "18   商業使用電子方式處理會計資料後，下列敘述何者錯誤     【04-126】\n",
      "(1) 資料應備份儲存  \n",
      "(2) 傳票經入帳複核後，如發現錯誤可以直接更改，不必經過審核  \n",
      "(3) 應編定會計資料處理作業手冊  \n",
      "(4) 資料儲存媒體內所儲存之各項會計憑證至少保存五年  \n",
      "19   編製餘額式試算表時，係彙列     【02-185】\n",
      "(1) 總分類帳及明細分類帳各帳戶之餘額   (2) 總分類帳各帳戶之總額   (3) 總分類帳各帳戶之總額及餘額   (4) 總分類帳各帳戶餘額  \n",
      "20   下列有關權責發生基礎的敘述，何者有誤     【03-108】\n",
      "(1) 在權責發生基礎下衡量的淨利，費損應該與相關的收益認列在同一個會計期間  \n",
      "(2) 支付現金時，即應認列費損  \n",
      "(3) 預先收取客戶的現金時，認列預收收入  \n",
      "(4) 已經提供服務給客戶後，即可認列服務收入  \n",
      "21   日記簿的每頁借貸雙方金額，其合計數必     【02-43】\n",
      "(1) 不一定相等   (2) 可相等也可不相等   (3) 相等   (4) 不相等  \n",
      "22   若帳冊紀錄上僅發生應借記五百萬元而借記五千元的錯誤，則試算表的借貸方總額之差額可為哪些數字除盡     【02-211】\n",
      "(1) 99   (2) 9及111   (3) 9及99   (4) 90及11  \n",
      "23   年終結算獲利$30,600，但發現預期信用減損損失高估$50，利息費用$2,000誤記為佣金支出，期末存貨$4,520誤記為$4,250，則正確淨利應為     【03-205】\n",
      "(1) $33,920   (2) $30,920   (3) $37,920   (4) $35,920  \n",
      "24   銷貨成本$300,000，期初存貨$140,000，期末存貨為銷貨成本的四分之一，則本期進貨為     【03-167】\n",
      "(1) $235,000   (2) $160,000   (3) $260,000   (4) $300,000  \n",
      "25   賒購商品，定價$6,000，商業折扣10％，現金折扣2％，在折扣期間內付款時應     【02-35】\n",
      "(1) 借記應付帳款$5,880   (2) 借記現金$5,292   (3) 貸記現金$5,292   (4) 貸記應付帳款$5,292  \n",
      "26   企業應將負債作長、短期之區分，其根據之基本假設為     【01-20】\n",
      "(1) 繼續經營個體   (2) 時效性   (3) 重大性   (4) 可驗證性  \n",
      "27   下列何種錯誤較易自試算表中發現     【02-208】\n",
      "(1) 會計項目金額應過入借方誤入貸方   (2) 原始憑證與分錄不符   (3) 整筆交易漏記   (4) 不合會計原則之各項處理  \n",
      "28   交易事項對財務報表之精確性無重大影響者     【01-18】\n",
      "(1) 可登帳亦可不登   (2) 仍應精確處理   (3) 不予登帳   (4) 可權宜處理  \n",
      "29   採加值型營業稅時，若銷項稅額大於進項稅額，即產生     【01-132】\n",
      "(1) 銷項稅額   (2) 應退稅額   (3) 留抵稅額   (4) 應納稅額  \n",
      "30   期末調整交易要匯入總帳循環，屬於下列那一種處理方式     【04-104】\n",
      "(1) 整批連線   (2) 即時離線   (3) 即時連線   (4) 即時處理  \n",
      "31   香吉士公司期末備抵損失－應收帳款借方餘額為$3,000，本年底應收帳款餘額為$1,700,000，損失率1%，期末調整分錄為     【03-116】\n",
      "(1) 借記預期信用減損損失$23,000，貸記備扺損失－應收帳款$23,000  \n",
      "(2) 借記預期信用減損損失$20,000，貸記備扺損失－應收帳款$20,000  \n",
      "(3) 借記預期信用減損損失$2,000，貸記備扺損失－應收帳款$2,000  \n",
      "(4) 借記預期信用減損損失$17,000，貸記備扺損失－應收帳款$17,000  \n",
      "32   首次使用會計資訊系統時，下列何者非必要之設定     【04-1】\n",
      "(1) 匯率設定   (2) 會計項目設定   (3) 會計年度設定   (4) 公司名稱設定  \n",
      "33   依據「商業使用電子方式處理會計資料辦法」，下列何者不屬於商業使用會計軟體之基本功能     【05-22】\n",
      "(1) 會計資料之檢查及控制   (2) 各種帳冊、表單與財務報表之顯示及列印   (3) 預算編列   (4) 記帳憑證之登錄、分錄之過帳  \n",
      "34   下列敘述何者不正確     【02-100】\n",
      "(1) 應收帳款明細分類帳各帳戶餘額的總額，在過帳後應與應收帳款統制帳戶餘額相等  \n",
      "(2) 採用工作底稿，調整前試算表欄可以不編  \n",
      "(3) 工作底稿又稱為結帳計算表  \n",
      "(4) 銀行透支為流動負債會計項目  \n",
      "35   帳列應付利息$3,600，經查溢列$600，則同一年度內發現錯誤之更正分錄為     【02-154】\n",
      "(1) 借：利息費用$600，貸：應付利息$600   (2) 借：應付利息$600，貸：利息費用$600  \n",
      "(3) 借：應付利息$600，貸：現金$600   (4) 借：利息費用$600，貸：現金$600  \n",
      "36   期末試算表，發現借方餘額大於貸方餘額$200，則可能之錯誤為     【02-199】\n",
      "(1) 應付帳款貸方$200過入借方   (2) 應收帳款借方$100過入貸方   (3) 應付帳款貸方$100過入借方   (4) 應收帳款借方$200過入貸方  \n",
      "37   下列何者著重於計算損益     【01-13】\n",
      "(1) 收支會計   (2) 政府會計   (3) 營利會計   (4) 非營利會計  \n",
      "38   試算係依據下列何者檢視帳項之記載有無錯誤     【02-189】\n",
      "(1) 會計方程式   (2) 借貸法則   (3) 借貸平衡原理   (4) 會計原則  \n",
      "39   在過帳時，應貸記租金收入$3,000，誤記到租金支出的貸方，試問：此項錯誤將使試算表發生下列何種情況     【02-226】\n",
      "(1) 借方餘額的總額大於貸方餘額的總額，差額為$6,000  \n",
      "(2) 借方餘額的總額大於貸方餘額的總額，差額為$3,000  \n",
      "(3) 借方餘額的總額等於貸方餘額的總額  \n",
      "(4) 借方餘額的總額小於貸方餘額的總額，差額為$6,000  \n",
      "40   台中商店於03年9月15日預收佣金$60,000，當時以佣金收入帳戶入帳，年終估計已提供勞務程度有80％，則期末調整應     【03-44】\n",
      "(1) 借：預收佣金$12,000，貸：佣金收入$12,000  \n",
      "(2) 借：佣金收入$12,000，貸：預收佣金$12,000  \n",
      "(3) 借：預收佣金$48,000，貸：佣金收入$48,000  \n",
      "(4) 借：佣金收入$48,000，貸：預收佣金$48,000  \n",
      "41   下列敘述何者有誤     【01-86】\n",
      "(1) 預期信用減損損失可列為營業費用之會計項目  \n",
      "(2) 備抵損失—應收帳款屬資產抵減會計項目  \n",
      "(3) 預期信用減損損失屬非預期之倒帳，應列營業外費用  \n",
      "(4) 為求收益與費損配合，期末應以備抵法估列預期信用減損損失  \n",
      "42   房屋一棟成本$2,800,000，估計可用20年，殘值$100,000，採直線法提列折舊，則第3年的折舊金額應為     【03-65】\n",
      "(1) $405,000   (2) $540,000   (3) $270,000   (4) $135,000  \n",
      "43   下列敘述何者正確     【02-125】\n",
      "(1) 統制帳戶是根據明細帳之總額過帳   (2) 明細帳及統制帳戶均須每日過帳   (3) 明細帳必須逐筆過帳   (4) 明細帳及統制帳戶均不須逐筆過帳  \n",
      "44   下列何者是指企業內部網路的系統     【04-42】\n",
      "(1) WAN   (2) Extranet   (3) Internet   (4) Intranet  \n",
      "45   下列何者不具有法人資格     【01-7】\n",
      "(1) 股份有限公司   (2) 無限公司   (3) 合夥   (4) 有限公司  \n",
      "46   企業若發生一筆交易，一方面使其資產增加，則另一方面可能使其     【02-55】\n",
      "(1) 負債減少   (2) 費損增加   (3) 權益減少   (4) 收益增加  \n",
      "47   設現金基礎下之銷貨收入$500,000，而期初應收帳款餘額$180,000，期末應收帳款餘額$140,000，則權責基礎下之銷貨收入為     【03-11】\n",
      "(1) $460,000   (2) $680,000   (3) $640,000   (4) $540,000  \n",
      "48   編製財務報表之根據為     【02-93】\n",
      "(1) 分錄簿   (2) 日記簿   (3) 序時簿   (4) 分類帳  \n",
      "49   下列交易事件何者應經過特別授權     【04-26】\n",
      "(1) 異常交易   (2) 交易金額小   (3) 例行性交易   (4) 在執行權責範圍內之交易  \n",
      "50   記帳時常用來表示「編號」之符號為     【01-129】\n",
      "(1) ￥   (2) ＄   (3) ＠   (4) ＃  \n",
      "51   日記簿記錄的時間應為     【02-7】\n",
      "(1) 每月一次   (2) 每筆交易隨即記錄   (3) 每一會計項目記錄一次   (4) 每週一次  \n",
      "52   台中公司於年初購買一組機器設備，成本共計$600,000，無殘值，耐用年限6年，採直線法，下列敘述何者有誤     【03-101】\n",
      "(1) 期末時應調整認列機器設備之折舊費用$100,000  \n",
      "(2) 期末時因該機器之調整分錄將增加公司之費用$100,000  \n",
      "(3) 期末時無須調整認列機器設備之折舊費用  \n",
      "(4) 期末時因該機器之調整分錄將使公司資產帳面金額減少$100,000  \n",
      "53   銷貨運費應屬於     【01-57】\n",
      "(1) 營業費用   (2) 銷貨收入之減項   (3) 銷貨成本   (4) 營業外支出  \n",
      "54   已知期末應收收入有$7,200，已收現收入$46,000中，尚有四分之三為預收性質，以權責基礎計算，則本期已實現之收入為     【03-38】\n",
      "(1) $41,700   (2) $34,500   (3) $18,700   (4) $11,500  \n",
      "55   一般企業分類帳借方會計項目餘額合計數相較於貸方會計項目餘額合計數，理應     【02-121】\n",
      "(1) 各會計項目餘額等於零   (2) 借大於貸   (3) 貸大於借   (4) 借貸相等  \n",
      "56   下列何者非類頁欄之功用     【02-47】\n",
      "(1) 方便編製試算表   (2) 便於偵查錯誤   (3) 作為日記簿與分類帳之對照   (4) 減少重複或遺漏過帳  \n",
      "57   漏記應付費用，會使本期淨利     【03-15】\n",
      "(1) 可能虛增，也可能虛減   (2) 無影響   (3) 虛增   (4) 虛減  \n",
      "58   下列何者為電子資料處理系統之優點     【04-134】\n",
      "(1) 人工操作處理較電子資料處理正確  \n",
      "(2) 電子資料處理系統對例行性交易，可設定以批次方式處理  \n",
      "(3) 在人工處理制度中分立的職能，在電子資料處理系統中卻予以合併  \n",
      "(4) 電子資料處理系統在防止錯誤方面較人工處理更無效率  \n",
      "59   一年以365天計算，當付款條件為2/10,n/40時，其取得現金折扣相當於年利率是     【01-143】\n",
      "(1) 24.83%   (2) 37.24%   (3) 28.65%   (4) 8.62%  \n",
      "60   在Windows作業系統中，要連上Internet須安裝下列哪一種網路通訊協定     【04-66】\n",
      "(1) NetBEUI   (2) TCP/IP   (3) IPX/SPX   (4) NetBIOS  \n",
      "61   以對決策活動有用之形式呈現的事實或數據稱為     【04-7】\n",
      "(1) 資料   (2) 系統   (3) 回饋   (4) 資訊  \n",
      "62   償還貨欠，並取得現金折扣1％，採複式傳票應編製     【02-240】\n",
      "(1) 分錄轉帳傳票   (2) 現金收入傳票   (3) 現金支出傳票   (4) 現金轉帳傳票  \n",
      "63   下列何項為正確     【02-68】\n",
      "(1) 日記簿又稱分類帳，為原始帳簿   (2) 日記簿之憑證字號欄係記載過入分類帳各帳戶之頁次   (3) 單項分錄係指交易發生後，只記載借方或貸方的分錄   (4) 日記簿是以交易為主體的原始帳簿  \n",
      "64   分類帳的主要功用為     【02-109】\n",
      "(1) 表示各項收入的來源   (2) 明瞭各交易的整體情形   (3) 表示各項費用的去路   (4) 明瞭各會計項目的增減變化  \n",
      "65   職業安全衛生法之立法意旨為保障工作者安全與健康，防止下列何種災害？     【90006-13】\n",
      "(1) 天然災害   (2) 交通災害   (3) 職業災害   (4) 公共災害  \n",
      "66   下列何者非屬於容易發生墜落災害的作業場所？     【90006-35】\n",
      "(1) 梯子、合梯   (2) 施工架   (3) 廚房   (4) 屋頂  \n",
      "67   若勞工工作性質需與陌生人接觸、工作中需處理不可預期的突發事件或工作場所治安狀況較差，較容易遭遇下列何種危害？     【90006-99】\n",
      "(1) 組織外部不法侵害   (2) 潛涵症   (3) 多發性神經病變   (4) 組織內部不法侵害  \n",
      "68   勞工工作時右手嚴重受傷，住院醫療期間公司應按下列何者給予職業災害補償？     【90006-19】\n",
      "(1) 原領工資   (2) 基本工資   (3) 前1年平均工資   (4) 前6個月平均工資  \n",
      "69   某離職同事請求在職員工將離職前所製作之某份文件傳送給他，請問下列回應方式何者正確？     【90007-34】\n",
      "(1) 若其目的僅為保留檔案備份，便可以傳送文件  \n",
      "(2) 可能構成對於營業秘密之侵害，應予拒絕並請他直接向公司提出請求  \n",
      "(3) 由於該項文件係由該離職員工製作，因此可以傳送文件  \n",
      "(4) 視彼此交情決定是否傳送文件  \n",
      "70   對於依照個人資料保護法應告知之事項，下列何者不在法定應告知的事項內？     【90007-7】\n",
      "(1) 如拒絕提供或提供不正確個人資料將造成之影響   (2) 個人資料利用之期間、地區、對象及方式   (3) 蒐集之目的   (4) 蒐集機關的負責人姓名  \n",
      "71   根據消除對婦女一切形式歧視公約(CEDAW)，下列何者正確?     【90007-89】\n",
      "(1) 只關心女性在政治方面的人權和基本自由  \n",
      "(2) 未要求政府需消除個人或企業對女性的歧視  \n",
      "(3) 對婦女的歧視指基於性別而作的任何區別、排斥或限制  \n",
      "(4) 傳統習俗應予保護及傳承，即使含有歧視女性的部分，也不可以改變  \n",
      "72   彥江是職場上的新鮮人，剛進公司不久，他應該具備怎樣的態度     【90007-81】\n",
      "(1) 仔細觀察公司生態，加入某些小團體，以做為後盾  \n",
      "(2) 努力做好自己職掌的業務，樂於工作，與同事之間有良好的互動，相互協助  \n",
      "(3) 上班、下班，管好自己便可  \n",
      "(4) 只要做好人脈關係，這樣以後就好辦事  \n",
      "73   防治蟲害最好的方法是     【90008-81】\n",
      "(1) 清除孳生源   (2) 拍打   (3) 網子捕捉   (4) 使用殺蟲劑  \n",
      "74   一般人生活產生之廢棄物，何者屬有害廢棄物？     【90008-64】\n",
      "(1) 廚餘   (2) 鐵鋁罐   (3) 廢日光燈管   (4) 廢玻璃  \n",
      "75   二手菸中包含多種危害人體的化學物質，甚至多種物質有致癌性，會危害到下列何者的健康？     【90008-23】\n",
      "(1) 只對12歲以下孩童有影響   (2) 全民皆有影響   (3) 只對孕婦比較有影響   (4) 只有65歲以上之民眾有影響  \n"
     ]
    },
    {
     "name": "stdout",
     "output_type": "stream",
     "text": [
      "76   下列何種開發行為若對環境有不良影響之虞者，應實施環境影響評估：A.開發科學園區；B.新建捷運工程；C.採礦？     【90008-98】\n",
      "(1) AB   (2) ABC   (3) AC   (4) BC  \n",
      "77   有關建築之外殼節能設計，下列敘述何者錯誤？     【90009-54】\n",
      "(1) 開窗區域設置遮陽設備   (2) 做好屋頂隔熱設施   (3) 宜採用全面玻璃造型設計，以利自然採光   (4) 大開窗面避免設置於東西日曬方位  \n",
      "78   各產業中耗能佔比最大的產業為     【90009-4】\n",
      "(1) 農林漁牧業   (2) 服務業   (3) 能源密集產業   (4) 公用事業  \n",
      "79   上班性質的商辦大樓為了降低尖峰時段用電，下列何者是錯的？     【90009-29】\n",
      "(1) 白天有陽光照明，所以白天可以將照明設備全關掉   (2) 汰換老舊電梯馬達並使用變頻控制   (3) 電梯設定隔層停止控制，減少頻繁啟動   (4) 使用儲冰式空調系統減少白天空調電能需求  \n",
      "80   依據我國現行國家標準規定，冷氣機的冷氣能力標示應以何種單位表示？     【90009-61】\n",
      "(1) BTU/h   (2) kW   (3) kcal/h   (4) RT  \n"
     ]
    }
   ],
   "source": [
    "for question in questions:\n",
    "    print(question.text)"
   ]
  },
  {
   "cell_type": "code",
   "execution_count": 14,
   "id": "acce8cf5",
   "metadata": {},
   "outputs": [
    {
     "data": {
      "text/plain": [
       "82"
      ]
     },
     "execution_count": 14,
     "metadata": {},
     "output_type": "execute_result"
    }
   ],
   "source": [
    "len(questions)"
   ]
  },
  {
   "cell_type": "code",
   "execution_count": 45,
   "id": "24c1e4cd",
   "metadata": {},
   "outputs": [
    {
     "name": "stdout",
     "output_type": "stream",
     "text": [
      "結帳後收益帳戶\n",
      "現金交易其中有一筆收入$1,000，誤過入現金帳戶的貸方，則總額式試算表\n",
      "結帳後，文具用品帳戶\n",
      "將應收帳款主檔以硬碟儲存，主要是\n",
      "企業在使用電腦化會計作業前，應先分析系統的需求，包括：A.資訊需求、B.硬體需求、C.組織需求、D.控制需求，其正確的順序為\n",
      "以下何者不屬於通訊網路的組成元件\n",
      "將資料處理過程所產生的資訊提供給使用者，以作為修正或改良原來的輸入程式或資料處理程式的活動稱為\n",
      "過帳乃指\n",
      "電子商務的現實涉及許多法律問題，以下敘述何者正確\n",
      "實帳戶之結帳，在求出借貸雙方總和的差額後，將其填列在數額較小一方的金額欄內，並在摘要欄內註明\n",
      "設立不動產、廠房及設備明細帳之目的不是為了\n",
      "台南公司之用品盤存期初金額$50,000，本期耗用$10,000，則有關調整分錄之敘述何者有誤\n",
      "下列何項為錯誤\n",
      "調整後試算表\n",
      "劃分會計期間之目的為\n",
      "資產負債表與綜合損益表之連鎖關係在於\n",
      "日記簿是每一企業的\n",
      "商業使用電子方式處理會計資料後，下列敘述何者錯誤\n",
      "編製餘額式試算表時，係彙列\n",
      "下列有關權責發生基礎的敘述，何者有誤\n",
      "日記簿的每頁借貸雙方金額，其合計數必\n",
      "若帳冊紀錄上僅發生應借記五百萬元而借記五千元的錯誤，則試算表的借貸方總額之差額可為哪些數字除盡\n",
      "年終結算獲利$30,600，但發現預期信用減損損失高估$50，利息費用$2,000誤記為佣金支出，期末存貨$4,520誤記為$4,250，則正確淨利應為\n",
      "銷貨成本$300,000，期初存貨$140,000，期末存貨為銷貨成本的四分之一，則本期進貨為\n",
      "賒購商品，定價$6,000，商業折扣10％，現金折扣2％，在折扣期間內付款時應\n",
      "企業應將負債作長、短期之區分，其根據之基本假設為\n",
      "下列何種錯誤較易自試算表中發現\n",
      "交易事項對財務報表之精確性無重大影響者\n",
      "採加值型營業稅時，若銷項稅額大於進項稅額，即產生\n",
      "期末調整交易要匯入總帳循環，屬於下列那一種處理方式\n",
      "香吉士公司期末備抵損失－應收帳款借方餘額為$3,000，本年底應收帳款餘額為$1,700,000，損失率1%，期末調整分錄為\n",
      "首次使用會計資訊系統時，下列何者非必要之設定\n",
      "依據「商業使用電子方式處理會計資料辦法」，下列何者不屬於商業使用會計軟體之基本功能\n",
      "下列敘述何者不正確\n",
      "帳列應付利息$3,600，經查溢列$600，則同一年度內發現錯誤之更正分錄為\n",
      "期末試算表，發現借方餘額大於貸方餘額$200，則可能之錯誤為\n",
      "下列何者著重於計算損益\n",
      "試算係依據下列何者檢視帳項之記載有無錯誤\n",
      "在過帳時，應貸記租金收入$3,000，誤記到租金支出的貸方，試問：此項錯誤將使試算表發生下列何種情況\n",
      "台中商店於03年9月15日預收佣金$60,000，當時以佣金收入帳戶入帳，年終估計已提供勞務程度有80％，則期末調整應\n",
      "下列敘述何者有誤\n",
      "房屋一棟成本$2,800,000，估計可用20年，殘值$100,000，採直線法提列折舊，則第3年的折舊金額應為\n",
      "下列敘述何者正確\n",
      "下列何者是指企業內部網路的系統\n",
      "下列何者不具有法人資格\n",
      "企業若發生一筆交易，一方面使其資產增加，則另一方面可能使其\n",
      "設現金基礎下之銷貨收入$500,000，而期初應收帳款餘額$180,000，期末應收帳款餘額$140,000，則權責基礎下之銷貨收入為\n",
      "編製財務報表之根據為\n",
      "下列交易事件何者應經過特別授權\n",
      "記帳時常用來表示「編號」之符號為\n",
      "日記簿記錄的時間應為\n",
      "台中公司於年初購買一組機器設備，成本共計$600,000，無殘值，耐用年限6年，採直線法，下列敘述何者有誤\n",
      "銷貨運費應屬於\n",
      "已知期末應收收入有$7,200，已收現收入$46,000中，尚有四分之三為預收性質，以權責基礎計算，則本期已實現之收入為\n",
      "一般企業分類帳借方會計項目餘額合計數相較於貸方會計項目餘額合計數，理應\n",
      "下列何者非類頁欄之功用\n",
      "漏記應付費用，會使本期淨利\n",
      "下列何者為電子資料處理系統之優點\n",
      "一年以365天計算，當付款條件為2/10,n/40時，其取得現金折扣相當於年利率是\n",
      "在Windows作業系統中，要連上Internet須安裝下列哪一種網路通訊協定\n",
      "以對決策活動有用之形式呈現的事實或數據稱為\n",
      "償還貨欠，並取得現金折扣1％，採複式傳票應編製\n",
      "下列何項為正確\n",
      "分類帳的主要功用為\n",
      "職業安全衛生法之立法意旨為保障工作者安全與健康，防止下列何種災害？\n",
      "下列何者非屬於容易發生墜落災害的作業場所？\n",
      "若勞工工作性質需與陌生人接觸、工作中需處理不可預期的突發事件或工作場所治安狀況較差，較容易遭遇下列何種危害？\n",
      "勞工工作時右手嚴重受傷，住院醫療期間公司應按下列何者給予職業災害補償？\n",
      "某離職同事請求在職員工將離職前所製作之某份文件傳送給他，請問下列回應方式何者正確？\n",
      "對於依照個人資料保護法應告知之事項，下列何者不在法定應告知的事項內？\n",
      "根據消除對婦女一切形式歧視公約(CEDAW)，下列何者正確?\n",
      "彥江是職場上的新鮮人，剛進公司不久，他應該具備怎樣的態度\n",
      "防治蟲害最好的方法是\n",
      "一般人生活產生之廢棄物，何者屬有害廢棄物？\n",
      "二手菸中包含多種危害人體的化學物質，甚至多種物質有致癌性，會危害到下列何者的健康？\n",
      "下列何種開發行為若對環境有不良影響之虞者，應實施環境影響評估：A.開發科學園區；B.新建捷運工程；C.採礦？\n",
      "有關建築之外殼節能設計，下列敘述何者錯誤？\n",
      "各產業中耗能佔比最大的產業為\n",
      "上班性質的商辦大樓為了降低尖峰時段用電，下列何者是錯的？\n",
      "依據我國現行國家標準規定，冷氣機的冷氣能力標示應以何種單位表示？\n"
     ]
    }
   ],
   "source": [
    "for i in range(2, len(questions)):\n",
    "    print(questions[i].text.split(' ')[3])"
   ]
  },
  {
   "cell_type": "code",
   "execution_count": 46,
   "id": "cbd97cae",
   "metadata": {},
   "outputs": [
    {
     "data": {
      "text/plain": [
       "['1',\n",
       " '',\n",
       " '',\n",
       " '結帳後收益帳戶',\n",
       " '',\n",
       " '',\n",
       " '',\n",
       " '',\n",
       " '【03-179】\\n(1)',\n",
       " '發生借額',\n",
       " '',\n",
       " '',\n",
       " '(2)',\n",
       " '沒有餘額',\n",
       " '',\n",
       " '',\n",
       " '(3)',\n",
       " '不一定',\n",
       " '',\n",
       " '',\n",
       " '(4)',\n",
       " '發生貸額',\n",
       " '',\n",
       " '']"
      ]
     },
     "execution_count": 46,
     "metadata": {},
     "output_type": "execute_result"
    }
   ],
   "source": [
    "questions[2].text.split(' ')"
   ]
  },
  {
   "cell_type": "code",
   "execution_count": 47,
   "id": "800e867c",
   "metadata": {},
   "outputs": [
    {
     "data": {
      "text/plain": [
       "'結帳後收益帳戶'"
      ]
     },
     "execution_count": 47,
     "metadata": {},
     "output_type": "execute_result"
    }
   ],
   "source": [
    "questions[2].text.split(' ')[3]"
   ]
  },
  {
   "cell_type": "code",
   "execution_count": 48,
   "id": "e555cf81",
   "metadata": {},
   "outputs": [
    {
     "data": {
      "text/plain": [
       "'發生借額'"
      ]
     },
     "execution_count": 48,
     "metadata": {},
     "output_type": "execute_result"
    }
   ],
   "source": [
    "questions[2].text.split(' ')[9]"
   ]
  },
  {
   "cell_type": "code",
   "execution_count": 49,
   "id": "933930db",
   "metadata": {},
   "outputs": [
    {
     "data": {
      "text/plain": [
       "'沒有餘額'"
      ]
     },
     "execution_count": 49,
     "metadata": {},
     "output_type": "execute_result"
    }
   ],
   "source": [
    "questions[2].text.split(' ')[13]"
   ]
  },
  {
   "cell_type": "code",
   "execution_count": 50,
   "id": "061259a6",
   "metadata": {},
   "outputs": [
    {
     "data": {
      "text/plain": [
       "'不一定'"
      ]
     },
     "execution_count": 50,
     "metadata": {},
     "output_type": "execute_result"
    }
   ],
   "source": [
    "questions[2].text.split(' ')[17]"
   ]
  },
  {
   "cell_type": "code",
   "execution_count": 51,
   "id": "a64e83ec",
   "metadata": {},
   "outputs": [
    {
     "data": {
      "text/plain": [
       "'發生貸額'"
      ]
     },
     "execution_count": 51,
     "metadata": {},
     "output_type": "execute_result"
    }
   ],
   "source": [
    "questions[2].text.split(' ')[21]"
   ]
  },
  {
   "cell_type": "code",
   "execution_count": null,
   "id": "3a1291dd",
   "metadata": {},
   "outputs": [],
   "source": []
  },
  {
   "cell_type": "code",
   "execution_count": null,
   "id": "16264f42",
   "metadata": {},
   "outputs": [],
   "source": []
  },
  {
   "cell_type": "code",
   "execution_count": 56,
   "id": "6ddecbd5",
   "metadata": {},
   "outputs": [
    {
     "data": {
      "text/plain": [
       "'沒有餘額'"
      ]
     },
     "execution_count": 56,
     "metadata": {},
     "output_type": "execute_result"
    }
   ],
   "source": [
    "ans = '(C)沒有餘額'\n",
    "ans = ans.split(')')[1]\n",
    "ans"
   ]
  },
  {
   "cell_type": "code",
   "execution_count": 63,
   "id": "be111c4b",
   "metadata": {},
   "outputs": [],
   "source": [
    "if ans == questions[2].text.split(' ')[9] :ans = 1\n",
    "elif ans == questions[2].text.split(' ')[13] :ans = 2\n",
    "elif ans == questions[2].text.split(' ')[17] :ans = 3\n",
    "elif ans == questions[2].text.split(' ')[21] :ans = 4"
   ]
  },
  {
   "cell_type": "code",
   "execution_count": 64,
   "id": "f3857bbe",
   "metadata": {},
   "outputs": [
    {
     "data": {
      "text/plain": [
       "2"
      ]
     },
     "execution_count": 64,
     "metadata": {},
     "output_type": "execute_result"
    }
   ],
   "source": [
    "ans"
   ]
  },
  {
   "cell_type": "code",
   "execution_count": null,
   "id": "48e3730a",
   "metadata": {},
   "outputs": [],
   "source": []
  },
  {
   "cell_type": "code",
   "execution_count": 78,
   "id": "24460fb8",
   "metadata": {},
   "outputs": [],
   "source": [
    "topic = questions[2].text.split(' ')[8].split('-')[0].split('【')[1]"
   ]
  },
  {
   "cell_type": "code",
   "execution_count": 79,
   "id": "0aec42be",
   "metadata": {},
   "outputs": [],
   "source": [
    "number = questions[2].text.split(' ')[8].split('-')[1].split('】')[0]"
   ]
  },
  {
   "cell_type": "code",
   "execution_count": 80,
   "id": "8b08069b",
   "metadata": {},
   "outputs": [
    {
     "data": {
      "text/plain": [
       "'03'"
      ]
     },
     "execution_count": 80,
     "metadata": {},
     "output_type": "execute_result"
    }
   ],
   "source": [
    "topic"
   ]
  },
  {
   "cell_type": "code",
   "execution_count": 81,
   "id": "21444024",
   "metadata": {},
   "outputs": [
    {
     "data": {
      "text/plain": [
       "'179'"
      ]
     },
     "execution_count": 81,
     "metadata": {},
     "output_type": "execute_result"
    }
   ],
   "source": [
    "number"
   ]
  },
  {
   "cell_type": "code",
   "execution_count": null,
   "id": "3cadfbc2",
   "metadata": {},
   "outputs": [],
   "source": []
  },
  {
   "cell_type": "code",
   "execution_count": 145,
   "id": "0129c13d",
   "metadata": {},
   "outputs": [],
   "source": [
    "def searchAnser(topic,number):\n",
    "    urlNumber = 0\n",
    "    if topic   == '01'    :urlNumber = int(number) + 782797\n",
    "    elif topic == '02'    :urlNumber = int(number) + 782942\n",
    "    elif topic == '03'    :urlNumber = int(number) + 783183\n",
    "    elif topic == '04'    :urlNumber = int(number) + 783493\n",
    "    elif topic == '05'    :urlNumber = int(number) + 783390\n",
    "    elif topic == '90006' :urlNumber = int(number) + 1755528\n",
    "    elif topic == '90007' :urlNumber = int(number) + 2053551\n",
    "    elif topic == '90008' :urlNumber = int(number) + 1755728\n",
    "    elif topic == '90009' :urlNumber = int(number) + 1755628\n",
    "        \n",
    "    url = \"https://yamol.tw/item-\" + str(urlNumber) + \".htm\"\n",
    "    response = requests.get(url)\n",
    "    soup     = BeautifulSoup(response.text, 'html.parser')\n",
    "    \n",
    "    selects = soup.select(\"div.col-sm-6.col-md-4.col-lg-4\")\n",
    "    Answer = selects[0].a.text\n",
    "    \n",
    "    titles = soup.select(\"title\")[0].text.split('(')\n",
    "    for title in titles:\n",
    "        if title.split(')')[0] == Answer:\n",
    "            AnswerText = title.split(')')[1]\n",
    "        \n",
    "    return AnswerText"
   ]
  },
  {
   "cell_type": "code",
   "execution_count": 146,
   "id": "c1950fbc",
   "metadata": {},
   "outputs": [
    {
     "data": {
      "text/plain": [
       "'沒有餘額'"
      ]
     },
     "execution_count": 146,
     "metadata": {},
     "output_type": "execute_result"
    }
   ],
   "source": [
    "searchAnser(topic,number)"
   ]
  },
  {
   "cell_type": "code",
   "execution_count": null,
   "id": "2c35a4af",
   "metadata": {},
   "outputs": [],
   "source": []
  },
  {
   "cell_type": "code",
   "execution_count": 1,
   "id": "4e5028a3",
   "metadata": {},
   "outputs": [
    {
     "ename": "NameError",
     "evalue": "name 'driver' is not defined",
     "output_type": "error",
     "traceback": [
      "\u001b[1;31m---------------------------------------------------------------------------\u001b[0m",
      "\u001b[1;31mNameError\u001b[0m                                 Traceback (most recent call last)",
      "\u001b[1;32m<ipython-input-1-a2d6211c4d96>\u001b[0m in \u001b[0;36m<module>\u001b[1;34m\u001b[0m\n\u001b[1;32m----> 1\u001b[1;33m \u001b[0mdriver\u001b[0m\u001b[1;33m.\u001b[0m\u001b[0mfind_elements\u001b[0m\u001b[1;33m(\u001b[0m\u001b[0mBy\u001b[0m\u001b[1;33m.\u001b[0m\u001b[0mXPATH\u001b[0m\u001b[1;33m,\u001b[0m \u001b[1;34m'/html/body/center/form/div/table/tbody/tr[3]/td[3]/p/input'\u001b[0m\u001b[1;33m)\u001b[0m\u001b[1;33m[\u001b[0m\u001b[1;36m0\u001b[0m\u001b[1;33m]\u001b[0m\u001b[1;33m.\u001b[0m\u001b[0mclick\u001b[0m\u001b[1;33m(\u001b[0m\u001b[1;33m)\u001b[0m\u001b[1;33m\u001b[0m\u001b[1;33m\u001b[0m\u001b[0m\n\u001b[0m",
      "\u001b[1;31mNameError\u001b[0m: name 'driver' is not defined"
     ]
    }
   ],
   "source": [
    "driver.find_elements(By.XPATH, '/html/body/center/form/div/table/tbody/tr[3]/td[3]/p/input')[0].click()"
   ]
  },
  {
   "cell_type": "code",
   "execution_count": null,
   "id": "8c3af91a",
   "metadata": {},
   "outputs": [],
   "source": []
  }
 ],
 "metadata": {
  "kernelspec": {
   "display_name": "Python 3",
   "language": "python",
   "name": "python3"
  },
  "language_info": {
   "codemirror_mode": {
    "name": "ipython",
    "version": 3
   },
   "file_extension": ".py",
   "mimetype": "text/x-python",
   "name": "python",
   "nbconvert_exporter": "python",
   "pygments_lexer": "ipython3",
   "version": "3.7.9"
  }
 },
 "nbformat": 4,
 "nbformat_minor": 5
}
